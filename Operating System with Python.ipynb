{
 "cells": [
  {
   "cell_type": "code",
   "execution_count": 1,
   "id": "194f9555-a315-475d-a0aa-2f03d7bdf36d",
   "metadata": {},
   "outputs": [],
   "source": [
    "# First import operating system library"
   ]
  },
  {
   "cell_type": "code",
   "execution_count": 3,
   "id": "fb471824-0a35-4cea-9daa-64be2261348a",
   "metadata": {},
   "outputs": [],
   "source": [
    "import os"
   ]
  },
  {
   "cell_type": "code",
   "execution_count": 11,
   "id": "4336bf19-4077-4882-b84a-555a95f169f5",
   "metadata": {},
   "outputs": [
    {
     "data": {
      "text/plain": [
       "'C:\\\\Users\\\\Rituparn Dwivedi'"
      ]
     },
     "execution_count": 11,
     "metadata": {},
     "output_type": "execute_result"
    }
   ],
   "source": [
    "os.getcwd() # If i'm executing this it will give current working directory, this is library command for operating system"
   ]
  },
  {
   "cell_type": "code",
   "execution_count": null,
   "id": "68f6ca29-d2bc-45af-b18c-fd1475c73b4a",
   "metadata": {},
   "outputs": [],
   "source": [
    "# terminal command for mac, it will give current working directory\n",
    "pwd"
   ]
  },
  {
   "cell_type": "code",
   "execution_count": 27,
   "id": "40dff78b-15e3-4f27-b8e3-14ca29fa881d",
   "metadata": {},
   "outputs": [],
   "source": [
    "os.mkdir('New') # command use for make a folder, folder name will inside paranthesis"
   ]
  },
  {
   "cell_type": "code",
   "execution_count": 41,
   "id": "f0dd18ee-34ad-4682-a608-c8fe24ff704f",
   "metadata": {},
   "outputs": [],
   "source": [
    "os.mkdir('text')"
   ]
  },
  {
   "cell_type": "code",
   "execution_count": 29,
   "id": "e7ed3048-99d3-4d32-8e2e-eacb6969bb0d",
   "metadata": {},
   "outputs": [],
   "source": [
    "# Command use for make directory structure or make folder inide the filder "
   ]
  },
  {
   "cell_type": "code",
   "execution_count": 31,
   "id": "4229a9e9-4214-4b27-a11a-ac5a74daa6e6",
   "metadata": {},
   "outputs": [],
   "source": [
    "os.mkdir('New/Gfg')"
   ]
  },
  {
   "cell_type": "code",
   "execution_count": 33,
   "id": "f2d393aa-cebc-4057-95db-012cc67ac983",
   "metadata": {},
   "outputs": [],
   "source": [
    "# you can join the path of two directory"
   ]
  },
  {
   "cell_type": "code",
   "execution_count": 35,
   "id": "58818474-0534-4868-8abe-667f27a7c392",
   "metadata": {},
   "outputs": [
    {
     "data": {
      "text/plain": [
       "'New\\\\Gfg'"
      ]
     },
     "execution_count": 35,
     "metadata": {},
     "output_type": "execute_result"
    }
   ],
   "source": [
    "os.path.join('New', 'Gfg')"
   ]
  },
  {
   "cell_type": "markdown",
   "id": "6383db2f-75e4-495d-abb3-88403af60e88",
   "metadata": {},
   "source": [
    "# OS Library - List Directories"
   ]
  },
  {
   "cell_type": "markdown",
   "id": "a816fb5c-b695-417f-93aa-829a8622bc1f",
   "metadata": {},
   "source": [
    "### Delete Directory"
   ]
  },
  {
   "cell_type": "code",
   "execution_count": 51,
   "id": "3ff37a20-2777-4194-a1c7-d78a17d9e6d1",
   "metadata": {},
   "outputs": [],
   "source": [
    "os.rmdir('text')"
   ]
  },
  {
   "cell_type": "code",
   "execution_count": 57,
   "id": "a36121f7-e1ba-43de-90ea-0279006cf901",
   "metadata": {},
   "outputs": [
    {
     "ename": "FileNotFoundError",
     "evalue": "[WinError 2] The system cannot find the file specified: 'Gfg'",
     "output_type": "error",
     "traceback": [
      "\u001b[1;31m---------------------------------------------------------------------------\u001b[0m",
      "\u001b[1;31mFileNotFoundError\u001b[0m                         Traceback (most recent call last)",
      "Cell \u001b[1;32mIn[57], line 1\u001b[0m\n\u001b[1;32m----> 1\u001b[0m \u001b[43mos\u001b[49m\u001b[38;5;241;43m.\u001b[39;49m\u001b[43mrmdir\u001b[49m\u001b[43m(\u001b[49m\u001b[38;5;124;43m'\u001b[39;49m\u001b[38;5;124;43mGfg\u001b[39;49m\u001b[38;5;124;43m'\u001b[39;49m\u001b[43m)\u001b[49m \u001b[38;5;66;03m# This folder is inside a folder so by this command you can't delete this folder\u001b[39;00m\n",
      "\u001b[1;31mFileNotFoundError\u001b[0m: [WinError 2] The system cannot find the file specified: 'Gfg'"
     ]
    }
   ],
   "source": [
    "os.rmdir('Gfg') # This folder is inside a folder so by this command you can't delete this folder"
   ]
  },
  {
   "cell_type": "code",
   "execution_count": 61,
   "id": "8dccca12-ede1-40c9-bf01-38e8b21812b3",
   "metadata": {},
   "outputs": [
    {
     "data": {
      "text/plain": [
       "'C:\\\\Users\\\\Rituparn Dwivedi'"
      ]
     },
     "execution_count": 61,
     "metadata": {},
     "output_type": "execute_result"
    }
   ],
   "source": [
    "os.getcwd()"
   ]
  },
  {
   "cell_type": "code",
   "execution_count": 73,
   "id": "b5f21883-0408-4bfb-a15f-9caad6a5326b",
   "metadata": {},
   "outputs": [],
   "source": [
    "# Provide the folder path"
   ]
  },
  {
   "cell_type": "code",
   "execution_count": 69,
   "id": "595bea27-1b09-454d-8402-5fef94fb776d",
   "metadata": {},
   "outputs": [],
   "source": [
    "os.rmdir('New/Gfg')"
   ]
  },
  {
   "cell_type": "markdown",
   "id": "1d34f493-c32e-4128-8ca8-c398a912f076",
   "metadata": {},
   "source": [
    "### List Directory"
   ]
  },
  {
   "cell_type": "code",
   "execution_count": 76,
   "id": "16026e52-caf4-4c2e-b2e3-0812c71cdb4f",
   "metadata": {},
   "outputs": [],
   "source": [
    "# This will list all the basic file that we are having in particular folder"
   ]
  },
  {
   "cell_type": "code",
   "execution_count": 78,
   "id": "139fca07-6211-477c-9dd8-c7298ba20d60",
   "metadata": {},
   "outputs": [],
   "source": [
    "# dot localized hidden file"
   ]
  },
  {
   "cell_type": "code",
   "execution_count": 80,
   "id": "c80262a6-e8b7-4225-82dd-f3194985758d",
   "metadata": {},
   "outputs": [
    {
     "data": {
      "text/plain": [
       "['.anaconda',\n",
       " '.bash_history',\n",
       " '.cache',\n",
       " '.conda',\n",
       " '.condarc',\n",
       " '.continuum',\n",
       " '.gitconfig',\n",
       " '.idlerc',\n",
       " '.ipynb_checkpoints',\n",
       " '.ipython',\n",
       " '.jupyter',\n",
       " '.matplotlib',\n",
       " '.vscode',\n",
       " '3D Objects',\n",
       " 'AB_NYC_2019.csv',\n",
       " 'anaconda3',\n",
       " 'AppData',\n",
       " 'Application Data',\n",
       " 'Basic Syntax',\n",
       " 'BeautifulSoup.ipynb',\n",
       " 'Binary Search.ipynb',\n",
       " 'Binary search2.ipynb',\n",
       " 'Black friday sales.ipynb',\n",
       " 'BlackFriday.csv',\n",
       " 'Conditional statement.ipynb',\n",
       " 'Contacts',\n",
       " 'Cookies',\n",
       " 'Data Analysis - Categorical.ipynb',\n",
       " 'Data Analysis.ipynb',\n",
       " 'Data Reading.ipynb',\n",
       " 'Data Splitting.ipynb',\n",
       " 'Data Type Practice.ipynb',\n",
       " 'data.txt',\n",
       " 'data_for_lr.csv',\n",
       " 'data_season.csv',\n",
       " 'Decision Tree (Entropy).ipynb',\n",
       " 'Decision Tree 3.ipynb',\n",
       " 'Decision Tree.ipynb',\n",
       " 'Decision_tree_cart.ipynb',\n",
       " 'Desktop',\n",
       " 'Documents',\n",
       " 'Downloads',\n",
       " 'DT Practice2.ipynb',\n",
       " 'DT Regression.ipynb',\n",
       " 'Encoding-Categorical data.ipynb',\n",
       " 'Exploratory Data Analysis - Bivariate.ipynb',\n",
       " 'Exploratory Data Analysis.ipynb',\n",
       " 'Favorites',\n",
       " 'Function & OOPs.ipynb',\n",
       " 'Function and module.ipynb',\n",
       " 'GeeksforGeeks.ipynb',\n",
       " 'golf.dot',\n",
       " 'golf_df.csv',\n",
       " 'googleplaystore.csv',\n",
       " 'Inventory Management Sys.ipynb',\n",
       " 'Inventory.txt',\n",
       " 'iris.csv',\n",
       " 'JSON.ipynb',\n",
       " 'JSON2.ipynb',\n",
       " 'K - Neighbour Nearest Algorithm(KNN).ipynb',\n",
       " 'K-Mean Clustering Practice.ipynb',\n",
       " 'K-Mean Clustering.ipynb',\n",
       " 'Line Plot.png',\n",
       " 'Line Plot1.png',\n",
       " 'Linear Regression - Practice.ipynb',\n",
       " 'Links',\n",
       " 'List of Countries by Sugarcane Production.csv',\n",
       " 'list practice.ipynb',\n",
       " 'Local Settings',\n",
       " 'Logistic Regression - Perceptron Trick.ipynb',\n",
       " 'Logistic Regression - Self Practice.ipynb',\n",
       " 'Logistic Regression - Sigmoid Function.ipynb',\n",
       " 'Matplotlib.ipynb',\n",
       " 'Microsoft',\n",
       " 'Music',\n",
       " 'My Documents',\n",
       " 'NetHood',\n",
       " 'New',\n",
       " 'New data.txt',\n",
       " 'New Prac2.ipynb',\n",
       " 'New Practice.ipynb',\n",
       " 'NTUSER.DAT',\n",
       " 'ntuser.dat.LOG1',\n",
       " 'ntuser.dat.LOG2',\n",
       " 'NTUSER.DAT{53b39e88-18c4-11ea-a811-000d3aa4692b}.TM.blf',\n",
       " 'NTUSER.DAT{53b39e88-18c4-11ea-a811-000d3aa4692b}.TMContainer00000000000000000001.regtrans-ms',\n",
       " 'NTUSER.DAT{53b39e88-18c4-11ea-a811-000d3aa4692b}.TMContainer00000000000000000002.regtrans-ms',\n",
       " 'ntuser.ini',\n",
       " 'OneDrive',\n",
       " 'OOPs.ipynb',\n",
       " 'OOPs1.ipynb',\n",
       " 'Operating System with Python.ipynb',\n",
       " 'Outlier.ipynb',\n",
       " 'Page Scraper.ipynb',\n",
       " 'Pandas - Series.ipynb',\n",
       " 'pandas.ipynb',\n",
       " 'Pictures',\n",
       " 'Position_Salaries (1).csv',\n",
       " 'PrintHood',\n",
       " 'Projects.ipynb',\n",
       " 'Pyathon Practice.ipynb',\n",
       " 'PycharmProjects',\n",
       " 'Quotes.csv',\n",
       " 'Recent',\n",
       " 'Records.json',\n",
       " 'Regularization.ipynb',\n",
       " 'Sales.txt',\n",
       " 'Saved Games',\n",
       " 'scholarship.csv',\n",
       " 'scikit_learn_data',\n",
       " 'Scrape - Book Scraper.ipynb',\n",
       " 'Searches',\n",
       " 'SELENIUM.ipynb',\n",
       " 'SendTo',\n",
       " 'Simple Linear Regression.ipynb',\n",
       " 'Sin & Cosine Wave.png',\n",
       " 'Sin & Cosine.png',\n",
       " 'Social_Network_Ads.csv',\n",
       " 'Start Menu',\n",
       " 'StreamLit.ipynb',\n",
       " 'Sugarcane EDA.ipynb',\n",
       " 'Templates',\n",
       " 'titanic_data.csv',\n",
       " 'Tracing',\n",
       " 'Tuple.ipynb',\n",
       " 'Untitled.ipynb',\n",
       " 'Untitled1.ipynb',\n",
       " 'Untitled2.ipynb',\n",
       " 'Untitled3.ipynb',\n",
       " 'Untitled4.ipynb',\n",
       " 'Videos']"
      ]
     },
     "execution_count": 80,
     "metadata": {},
     "output_type": "execute_result"
    }
   ],
   "source": [
    "os.listdir()"
   ]
  },
  {
   "cell_type": "code",
   "execution_count": 82,
   "id": "012312c6-10b4-41e4-8c4d-c9172fbd3e93",
   "metadata": {},
   "outputs": [],
   "source": [
    "# Find How many files in the folder"
   ]
  },
  {
   "cell_type": "code",
   "execution_count": 84,
   "id": "d350b696-9371-44a0-978b-ca86b4c9aa74",
   "metadata": {},
   "outputs": [
    {
     "data": {
      "text/plain": [
       "['keyring']"
      ]
     },
     "execution_count": 84,
     "metadata": {},
     "output_type": "execute_result"
    }
   ],
   "source": [
    "os.listdir('.anaconda')"
   ]
  },
  {
   "cell_type": "code",
   "execution_count": 86,
   "id": "b79524d0-e9c6-4288-8647-fe8204b373d6",
   "metadata": {},
   "outputs": [
    {
     "data": {
      "text/plain": [
       "['lab', 'labconfig', 'migrated']"
      ]
     },
     "execution_count": 86,
     "metadata": {},
     "output_type": "execute_result"
    }
   ],
   "source": [
    "os.listdir('.Jupyter')"
   ]
  },
  {
   "cell_type": "code",
   "execution_count": 88,
   "id": "c1554842-5cbe-4268-bcda-f5416ffcadf9",
   "metadata": {},
   "outputs": [],
   "source": [
    "# Rename the file name"
   ]
  },
  {
   "cell_type": "code",
   "execution_count": 90,
   "id": "4a10524d-37ce-4161-b6ae-cfa669ca76a2",
   "metadata": {},
   "outputs": [],
   "source": [
    "os.rename('New', 'MyFisrt')"
   ]
  },
  {
   "cell_type": "markdown",
   "id": "02965a9e-fcb6-4aad-91aa-b258b949dff8",
   "metadata": {},
   "source": [
    "### Check Path"
   ]
  },
  {
   "cell_type": "code",
   "execution_count": 92,
   "id": "23207250-6d5c-4ecd-acc4-4b3d39203fea",
   "metadata": {},
   "outputs": [],
   "source": [
    "# To check path exist or not"
   ]
  },
  {
   "cell_type": "code",
   "execution_count": 98,
   "id": "86f9ceee-b2aa-41e2-bc56-7ae75794a670",
   "metadata": {},
   "outputs": [
    {
     "data": {
      "text/plain": [
       "True"
      ]
     },
     "execution_count": 98,
     "metadata": {},
     "output_type": "execute_result"
    }
   ],
   "source": [
    "os.path.exists('MyFisrt')"
   ]
  },
  {
   "cell_type": "code",
   "execution_count": 100,
   "id": "ad6c9881-c98b-416c-8be6-d09738ed622c",
   "metadata": {},
   "outputs": [
    {
     "data": {
      "text/plain": [
       "False"
      ]
     },
     "execution_count": 100,
     "metadata": {},
     "output_type": "execute_result"
    }
   ],
   "source": [
    "os.path.exists('MyFisrt/OSlib') # OSlib folder does not exists inside MyFisrt folder"
   ]
  },
  {
   "cell_type": "code",
   "execution_count": 104,
   "id": "0e39e4cb-a6e7-4ee6-a983-89de16d593ef",
   "metadata": {},
   "outputs": [],
   "source": [
    "if os.path.exists('MyFisrt/OSlib'):\n",
    "    print('Folder already Exists')\n",
    "else:\n",
    "    os.mkdir('MyFisrt/OSlib') # Make a folder insede MyFisrt folder"
   ]
  },
  {
   "cell_type": "markdown",
   "id": "80c87931-5a4d-4525-ad58-e0fb78609906",
   "metadata": {},
   "source": [
    "### Get size"
   ]
  },
  {
   "cell_type": "code",
   "execution_count": 108,
   "id": "307b256f-4163-4fd4-b392-92c48d9dc655",
   "metadata": {},
   "outputs": [
    {
     "data": {
      "text/plain": [
       "0"
      ]
     },
     "execution_count": 108,
     "metadata": {},
     "output_type": "execute_result"
    }
   ],
   "source": [
    "os.path.getsize('MyFisrt')"
   ]
  },
  {
   "cell_type": "markdown",
   "id": "fa05c0eb-fdde-49e0-a08e-451684ead8fc",
   "metadata": {},
   "source": [
    "# OS Library - Bulk Directories Creation"
   ]
  },
  {
   "cell_type": "code",
   "execution_count": 111,
   "id": "f168261e-fc6d-4f3f-8dae-97479fe8ba11",
   "metadata": {},
   "outputs": [
    {
     "ename": "FileNotFoundError",
     "evalue": "[WinError 3] The system cannot find the path specified: 'Test/Test'",
     "output_type": "error",
     "traceback": [
      "\u001b[1;31m---------------------------------------------------------------------------\u001b[0m",
      "\u001b[1;31mFileNotFoundError\u001b[0m                         Traceback (most recent call last)",
      "Cell \u001b[1;32mIn[111], line 2\u001b[0m\n\u001b[0;32m      1\u001b[0m \u001b[38;5;28;01mfor\u001b[39;00m i \u001b[38;5;129;01min\u001b[39;00m \u001b[38;5;28mrange\u001b[39m(\u001b[38;5;241m10\u001b[39m):\n\u001b[1;32m----> 2\u001b[0m     \u001b[43mos\u001b[49m\u001b[38;5;241;43m.\u001b[39;49m\u001b[43mmkdir\u001b[49m\u001b[43m(\u001b[49m\u001b[38;5;124;43m'\u001b[39;49m\u001b[38;5;124;43mTest/Test\u001b[39;49m\u001b[38;5;124;43m'\u001b[39;49m\u001b[43m)\u001b[49m \u001b[38;5;66;03m# It will give error because you are executing this code 10 times, so 1st time it will create \u001b[39;00m\n\u001b[0;32m      3\u001b[0m                           \u001b[38;5;66;03m# directory 'Test' and in 2nd time execution create a directory 'Test' which is alredy exists.\u001b[39;00m\n",
      "\u001b[1;31mFileNotFoundError\u001b[0m: [WinError 3] The system cannot find the path specified: 'Test/Test'"
     ]
    }
   ],
   "source": [
    "for i in range(10):\n",
    "    os.mkdir('Test/Test') # It will give error because you are executing this code 10 times, so 1st time it will create \n",
    "                          # directory 'Test' and in 2nd time execution create a directory 'Test' which is alredy exists."
   ]
  },
  {
   "cell_type": "code",
   "execution_count": 113,
   "id": "493fbe85-dd08-4d25-880d-97197862c1f0",
   "metadata": {},
   "outputs": [
    {
     "name": "stdout",
     "output_type": "stream",
     "text": [
      "Test/Test1\n",
      "Test/Test2\n",
      "Test/Test3\n",
      "Test/Test4\n",
      "Test/Test5\n",
      "Test/Test6\n",
      "Test/Test7\n",
      "Test/Test8\n",
      "Test/Test9\n",
      "Test/Test10\n"
     ]
    }
   ],
   "source": [
    "for i in range(10):\n",
    "    name = 'Test/Test' + str(i + 1)\n",
    "    print(name)"
   ]
  },
  {
   "cell_type": "code",
   "execution_count": 117,
   "id": "a78c6de2-4051-4175-82bf-394e2795b92b",
   "metadata": {},
   "outputs": [],
   "source": [
    "! mkdir Test\n",
    "for i in range(10):\n",
    "    name = 'Test/Test' + str(i + 1)\n",
    "    os.mkdir(name)"
   ]
  },
  {
   "cell_type": "code",
   "execution_count": 121,
   "id": "2157562f-d6e6-429a-b68e-5b4e0956df0c",
   "metadata": {},
   "outputs": [],
   "source": [
    "n = 'Mycode' # this is a master folder\n",
    "\n",
    "! mkdir Mycode\n",
    "for i in range(100):\n",
    "    name = n+'/'+n+''+str(i+1)\n",
    "    os.mkdir(name)"
   ]
  },
  {
   "cell_type": "markdown",
   "id": "72102b6d-2484-438a-8bf9-68104ae32187",
   "metadata": {},
   "source": [
    "# OS Library - Hirerical Bulk Directories Creation"
   ]
  },
  {
   "cell_type": "code",
   "execution_count": 124,
   "id": "8e0d5ff2-b268-454f-b97c-845dc70f6114",
   "metadata": {},
   "outputs": [],
   "source": [
    "# For hirerical structure first you have to create a master directory"
   ]
  },
  {
   "cell_type": "code",
   "execution_count": 126,
   "id": "abd8e93a-6325-4dba-badb-101a2989a94f",
   "metadata": {},
   "outputs": [],
   "source": [
    "master = 'GFG' # master directory created\n",
    "os.mkdir(master)"
   ]
  },
  {
   "cell_type": "code",
   "execution_count": 134,
   "id": "f625a075-34ad-405f-8d59-77304ecbe4f8",
   "metadata": {},
   "outputs": [],
   "source": [
    "for i in range(10): # inside master directory 10 another directory created.\n",
    "    name = master+'/'+master+''+str(i+1)\n",
    "    os.mkdir(name)\n",
    "\n",
    "    for j in range(10): # another directory created inside directory that have created already\n",
    "        name = master+'/'+master+''+str(i+1)+'/'+master+''+str(j+1)\n",
    "        os.mkdir(name)"
   ]
  }
 ],
 "metadata": {
  "kernelspec": {
   "display_name": "Python 3 (ipykernel)",
   "language": "python",
   "name": "python3"
  },
  "language_info": {
   "codemirror_mode": {
    "name": "ipython",
    "version": 3
   },
   "file_extension": ".py",
   "mimetype": "text/x-python",
   "name": "python",
   "nbconvert_exporter": "python",
   "pygments_lexer": "ipython3",
   "version": "3.12.3"
  }
 },
 "nbformat": 4,
 "nbformat_minor": 5
}
