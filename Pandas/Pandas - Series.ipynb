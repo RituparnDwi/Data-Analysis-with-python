{
 "cells": [
  {
   "cell_type": "code",
   "execution_count": 1,
   "id": "87bd8d0f-c3aa-4906-92ac-bf94067c3ae9",
   "metadata": {},
   "outputs": [],
   "source": [
    "# Pandas is an open-source python library that has function providing high-performance data manipulation and analysis."
   ]
  },
  {
   "cell_type": "markdown",
   "id": "95f82a8a-5d1d-4447-8dfd-83cbb2464d4b",
   "metadata": {},
   "source": [
    "# Working with Pandas Series"
   ]
  },
  {
   "cell_type": "code",
   "execution_count": 4,
   "id": "5bb0820b-7bbb-4718-ace8-d7989b89dea5",
   "metadata": {},
   "outputs": [],
   "source": [
    "# Pandas series is a one-dimensional labeled array capable of holding data of any type"
   ]
  },
  {
   "cell_type": "code",
   "execution_count": 6,
   "id": "e18ace0e-4c01-40c7-a008-60e53a88eb45",
   "metadata": {},
   "outputs": [],
   "source": [
    "import pandas as pd"
   ]
  },
  {
   "cell_type": "code",
   "execution_count": 8,
   "id": "fd013ae8-f64a-45eb-967a-7b4e5898b4db",
   "metadata": {},
   "outputs": [
    {
     "data": {
      "text/plain": [
       "0    1\n",
       "1    2\n",
       "2    3\n",
       "dtype: int64"
      ]
     },
     "execution_count": 8,
     "metadata": {},
     "output_type": "execute_result"
    }
   ],
   "source": [
    "lst = [1, 2, 3]\n",
    "pd.Series(lst)"
   ]
  },
  {
   "cell_type": "code",
   "execution_count": 10,
   "id": "eac6e907-ba29-4f75-9133-1714d8708fe5",
   "metadata": {},
   "outputs": [],
   "source": [
    "# Series through numpy"
   ]
  },
  {
   "cell_type": "code",
   "execution_count": 12,
   "id": "2b240ffb-f670-4611-a5c5-fba9846d9f24",
   "metadata": {},
   "outputs": [],
   "source": [
    "import numpy as np"
   ]
  },
  {
   "cell_type": "code",
   "execution_count": 14,
   "id": "2399de62-1a3c-4853-a0a4-a2ddf86eaaeb",
   "metadata": {},
   "outputs": [
    {
     "data": {
      "text/plain": [
       "0    1\n",
       "1    2\n",
       "2    3\n",
       "3    4\n",
       "dtype: int32"
      ]
     },
     "execution_count": 14,
     "metadata": {},
     "output_type": "execute_result"
    }
   ],
   "source": [
    "arr = np.array([1,2,3,4])\n",
    "pd.Series(arr)"
   ]
  },
  {
   "cell_type": "code",
   "execution_count": 16,
   "id": "0b67aa57-6108-4880-b78b-f27f91c81443",
   "metadata": {},
   "outputs": [],
   "source": [
    "# Given index from our own end"
   ]
  },
  {
   "cell_type": "code",
   "execution_count": 18,
   "id": "811235dc-f454-47c0-bb76-1bf8c6db7d90",
   "metadata": {},
   "outputs": [
    {
     "data": {
      "text/plain": [
       "1     Eshant\n",
       "2    Pranjal\n",
       "3     Jayesh\n",
       "4     Ashish\n",
       "dtype: object"
      ]
     },
     "execution_count": 18,
     "metadata": {},
     "output_type": "execute_result"
    }
   ],
   "source": [
    "pd.Series(data = ['Eshant', 'Pranjal', 'Jayesh', 'Ashish'], index = [1,2,3,4])"
   ]
  },
  {
   "cell_type": "code",
   "execution_count": 22,
   "id": "cd1d1444-fbbb-4708-b910-4e9e9d618c17",
   "metadata": {},
   "outputs": [
    {
     "data": {
      "text/plain": [
       "Eshant     1\n",
       "Pranjal    2\n",
       "Jayesh     3\n",
       "Ashish     4\n",
       "dtype: int64"
      ]
     },
     "execution_count": 22,
     "metadata": {},
     "output_type": "execute_result"
    }
   ],
   "source": [
    "pd.Series(index = ['Eshant', 'Pranjal', 'Jayesh', 'Ashish'], data = [1,2,3,4])"
   ]
  },
  {
   "cell_type": "code",
   "execution_count": 24,
   "id": "f2c5c16d-56d4-4b42-b7be-6b61ef37bbbf",
   "metadata": {},
   "outputs": [],
   "source": [
    "# Series through dictionary"
   ]
  },
  {
   "cell_type": "code",
   "execution_count": 26,
   "id": "e2c013b9-3b15-4b75-ad7c-58c70c915b8a",
   "metadata": {},
   "outputs": [
    {
     "data": {
      "text/plain": [
       "day_1    4000\n",
       "day_2    3000\n",
       "Day_3    1200\n",
       "dtype: int64"
      ]
     },
     "execution_count": 26,
     "metadata": {},
     "output_type": "execute_result"
    }
   ],
   "source": [
    "step = {'day_1' : 4000, 'day_2' : 3000, 'Day_3' : 1200}\n",
    "pd.Series(step)"
   ]
  },
  {
   "cell_type": "markdown",
   "id": "bc8fde48-840f-4188-950c-5996a4fec4f5",
   "metadata": {},
   "source": [
    "### Repeat Function"
   ]
  },
  {
   "cell_type": "code",
   "execution_count": 29,
   "id": "7aab1491-b5a1-4307-86cd-285a240d958e",
   "metadata": {},
   "outputs": [],
   "source": [
    "# pandas.Series.repeat() function repeat element of a series. It returns a new series where each element of the current\n",
    "# series is repeated consecutively a given no. of times"
   ]
  },
  {
   "cell_type": "code",
   "execution_count": 33,
   "id": "0784367a-5fec-4620-a159-8d5fbc8d825f",
   "metadata": {},
   "outputs": [
    {
     "data": {
      "text/plain": [
       "0    5\n",
       "0    5\n",
       "0    5\n",
       "0    5\n",
       "0    5\n",
       "dtype: int64"
      ]
     },
     "execution_count": 33,
     "metadata": {},
     "output_type": "execute_result"
    }
   ],
   "source": [
    "pd.Series(5).repeat(5)"
   ]
  },
  {
   "cell_type": "code",
   "execution_count": 37,
   "id": "a1b83413-c6d1-4543-b462-4e546ed471a0",
   "metadata": {},
   "outputs": [
    {
     "data": {
      "text/plain": [
       "0    5\n",
       "0    5\n",
       "0    5\n",
       "dtype: int64"
      ]
     },
     "execution_count": 37,
     "metadata": {},
     "output_type": "execute_result"
    }
   ],
   "source": [
    "pd.Series(5).repeat(3)"
   ]
  },
  {
   "cell_type": "markdown",
   "id": "56e93857-e18f-4f55-8186-1b0dc3dc3df6",
   "metadata": {},
   "source": [
    "### Reset Function"
   ]
  },
  {
   "cell_type": "code",
   "execution_count": 40,
   "id": "23d47a83-6c5e-44eb-949e-56ec479ccc4a",
   "metadata": {},
   "outputs": [],
   "source": [
    "# In repeat f/c index are same (i.e 0, 0, 0)\n",
    "# We can use reset function to change the index accurate"
   ]
  },
  {
   "cell_type": "code",
   "execution_count": 42,
   "id": "d5c140e5-2c1d-46ac-924b-3c15275fa2a9",
   "metadata": {},
   "outputs": [
    {
     "data": {
      "text/html": [
       "<div>\n",
       "<style scoped>\n",
       "    .dataframe tbody tr th:only-of-type {\n",
       "        vertical-align: middle;\n",
       "    }\n",
       "\n",
       "    .dataframe tbody tr th {\n",
       "        vertical-align: top;\n",
       "    }\n",
       "\n",
       "    .dataframe thead th {\n",
       "        text-align: right;\n",
       "    }\n",
       "</style>\n",
       "<table border=\"1\" class=\"dataframe\">\n",
       "  <thead>\n",
       "    <tr style=\"text-align: right;\">\n",
       "      <th></th>\n",
       "      <th>index</th>\n",
       "      <th>0</th>\n",
       "    </tr>\n",
       "  </thead>\n",
       "  <tbody>\n",
       "    <tr>\n",
       "      <th>0</th>\n",
       "      <td>0</td>\n",
       "      <td>5</td>\n",
       "    </tr>\n",
       "    <tr>\n",
       "      <th>1</th>\n",
       "      <td>0</td>\n",
       "      <td>5</td>\n",
       "    </tr>\n",
       "    <tr>\n",
       "      <th>2</th>\n",
       "      <td>0</td>\n",
       "      <td>5</td>\n",
       "    </tr>\n",
       "    <tr>\n",
       "      <th>3</th>\n",
       "      <td>0</td>\n",
       "      <td>5</td>\n",
       "    </tr>\n",
       "    <tr>\n",
       "      <th>4</th>\n",
       "      <td>0</td>\n",
       "      <td>5</td>\n",
       "    </tr>\n",
       "  </tbody>\n",
       "</table>\n",
       "</div>"
      ],
      "text/plain": [
       "   index  0\n",
       "0      0  5\n",
       "1      0  5\n",
       "2      0  5\n",
       "3      0  5\n",
       "4      0  5"
      ]
     },
     "execution_count": 42,
     "metadata": {},
     "output_type": "execute_result"
    }
   ],
   "source": [
    "pd.Series(5).repeat(5).reset_index()"
   ]
  },
  {
   "cell_type": "code",
   "execution_count": 44,
   "id": "d6380fe6-f22b-4079-95b6-6194351d20e5",
   "metadata": {},
   "outputs": [
    {
     "data": {
      "text/plain": [
       "0    5\n",
       "1    5\n",
       "2    5\n",
       "3    5\n",
       "4    5\n",
       "dtype: int64"
      ]
     },
     "execution_count": 44,
     "metadata": {},
     "output_type": "execute_result"
    }
   ],
   "source": [
    "pd.Series(5).repeat(5).reset_index(drop=True)"
   ]
  },
  {
   "cell_type": "code",
   "execution_count": 46,
   "id": "7c880bfa-1ad4-4119-ae1c-39011b631460",
   "metadata": {},
   "outputs": [
    {
     "data": {
      "text/plain": [
       "0    10\n",
       "0    10\n",
       "1    20\n",
       "1    20\n",
       "1    20\n",
       "2    30\n",
       "2    30\n",
       "2    30\n",
       "2    30\n",
       "2    30\n",
       "dtype: int64"
      ]
     },
     "execution_count": 46,
     "metadata": {},
     "output_type": "execute_result"
    }
   ],
   "source": [
    "# repeat 10 two times\n",
    "# repeat 20 three times\n",
    "# repeat 30 five times\n",
    "pd.Series([10,20,30]).repeat([2,3,5]) "
   ]
  },
  {
   "cell_type": "code",
   "execution_count": 48,
   "id": "0185f067-753a-46da-b024-c2ec45a7a83c",
   "metadata": {},
   "outputs": [
    {
     "data": {
      "text/plain": [
       "0    10\n",
       "1    10\n",
       "2    20\n",
       "3    20\n",
       "4    20\n",
       "5    30\n",
       "6    30\n",
       "7    30\n",
       "8    30\n",
       "9    30\n",
       "dtype: int64"
      ]
     },
     "execution_count": 48,
     "metadata": {},
     "output_type": "execute_result"
    }
   ],
   "source": [
    "pd.Series([10,20,30]).repeat([2,3,5]).reset_index(drop = True)\n"
   ]
  },
  {
   "cell_type": "markdown",
   "id": "1df56934-6e2f-4a3b-9bcb-2de584ed1ad2",
   "metadata": {},
   "source": [
    "### Accessing the element"
   ]
  },
  {
   "cell_type": "code",
   "execution_count": 55,
   "id": "1c00bc48-f93d-4ba8-998f-c31723e3e01e",
   "metadata": {},
   "outputs": [],
   "source": [
    "# We can access the element based on index"
   ]
  },
  {
   "cell_type": "code",
   "execution_count": 53,
   "id": "a055c758-a645-4f5b-8b25-a4aac88278c8",
   "metadata": {},
   "outputs": [
    {
     "data": {
      "text/plain": [
       "0    10\n",
       "1    10\n",
       "2    10\n",
       "3    10\n",
       "4    10\n",
       "5    20\n",
       "6    20\n",
       "dtype: int64"
      ]
     },
     "execution_count": 53,
     "metadata": {},
     "output_type": "execute_result"
    }
   ],
   "source": [
    "ser = pd.Series([10,20]).repeat([5,2]).reset_index(drop = True)\n",
    "ser"
   ]
  },
  {
   "cell_type": "code",
   "execution_count": 57,
   "id": "bed6890c-5fdd-44c7-a7c7-6df49ca9c935",
   "metadata": {},
   "outputs": [
    {
     "data": {
      "text/plain": [
       "10"
      ]
     },
     "execution_count": 57,
     "metadata": {},
     "output_type": "execute_result"
    }
   ],
   "source": [
    "ser[0]"
   ]
  },
  {
   "cell_type": "code",
   "execution_count": 59,
   "id": "a21cb71c-3165-4bbb-a248-0e67c4e0d297",
   "metadata": {},
   "outputs": [
    {
     "data": {
      "text/plain": [
       "10"
      ]
     },
     "execution_count": 59,
     "metadata": {},
     "output_type": "execute_result"
    }
   ],
   "source": [
    "ser[3]"
   ]
  },
  {
   "cell_type": "code",
   "execution_count": 61,
   "id": "211e2b0f-cc64-421f-a80a-d3c17c53ff4a",
   "metadata": {},
   "outputs": [
    {
     "data": {
      "text/plain": [
       "20"
      ]
     },
     "execution_count": 61,
     "metadata": {},
     "output_type": "execute_result"
    }
   ],
   "source": [
    "ser[5]"
   ]
  },
  {
   "cell_type": "code",
   "execution_count": 63,
   "id": "23d9c8c4-6876-4f71-9ba0-84e1889b576d",
   "metadata": {},
   "outputs": [
    {
     "data": {
      "text/plain": [
       "2    10\n",
       "3    10\n",
       "4    10\n",
       "dtype: int64"
      ]
     },
     "execution_count": 63,
     "metadata": {},
     "output_type": "execute_result"
    }
   ],
   "source": [
    "ser[2:5]"
   ]
  },
  {
   "cell_type": "code",
   "execution_count": 65,
   "id": "9714e3fa-9242-461c-a0dd-8d9755ab079e",
   "metadata": {},
   "outputs": [
    {
     "data": {
      "text/plain": [
       "2    10\n",
       "3    10\n",
       "4    10\n",
       "5    20\n",
       "dtype: int64"
      ]
     },
     "execution_count": 65,
     "metadata": {},
     "output_type": "execute_result"
    }
   ],
   "source": [
    "ser[2:6]"
   ]
  },
  {
   "cell_type": "code",
   "execution_count": 67,
   "id": "44a19fd8-55c7-4eb6-9d06-63ed2ebfbac1",
   "metadata": {},
   "outputs": [
    {
     "data": {
      "text/plain": [
       "4    10\n",
       "5    20\n",
       "6    20\n",
       "dtype: int64"
      ]
     },
     "execution_count": 67,
     "metadata": {},
     "output_type": "execute_result"
    }
   ],
   "source": [
    "ser[4:7]"
   ]
  },
  {
   "cell_type": "code",
   "execution_count": 69,
   "id": "3241d842-92bc-43f6-b062-60f70c339bd1",
   "metadata": {},
   "outputs": [
    {
     "data": {
      "text/plain": [
       "0    10\n",
       "1    10\n",
       "2    10\n",
       "3    10\n",
       "4    10\n",
       "5    20\n",
       "dtype: int64"
      ]
     },
     "execution_count": 69,
     "metadata": {},
     "output_type": "execute_result"
    }
   ],
   "source": [
    "ser[:6]"
   ]
  },
  {
   "cell_type": "code",
   "execution_count": 71,
   "id": "7504991e-76c6-45b6-a700-b30ee5b1ffdf",
   "metadata": {},
   "outputs": [
    {
     "data": {
      "text/plain": [
       "1    10\n",
       "2    10\n",
       "3    10\n",
       "4    10\n",
       "5    20\n",
       "dtype: int64"
      ]
     },
     "execution_count": 71,
     "metadata": {},
     "output_type": "execute_result"
    }
   ],
   "source": [
    "ser[1:-1]"
   ]
  },
  {
   "cell_type": "markdown",
   "id": "59350f24-1cd8-45e8-9a9c-7b5e6f7f51ee",
   "metadata": {},
   "source": [
    "### Aggregating Function on Pandas Series"
   ]
  },
  {
   "cell_type": "code",
   "execution_count": 74,
   "id": "968c1cbe-125c-4cc3-9a0a-31cc8711b78f",
   "metadata": {},
   "outputs": [],
   "source": [
    "# PandasSeries.aggeration() f/c aggregate using one or more operations over the specified axis in the given series object."
   ]
  },
  {
   "cell_type": "code",
   "execution_count": 78,
   "id": "884fb286-845f-4fcc-8ec3-a6b84d6a37bc",
   "metadata": {},
   "outputs": [
    {
     "data": {
      "text/plain": [
       "min    1\n",
       "dtype: int64"
      ]
     },
     "execution_count": 78,
     "metadata": {},
     "output_type": "execute_result"
    }
   ],
   "source": [
    "sr = pd.Series([1,2,3,4,5,6,7])\n",
    "sr.agg(['min'])"
   ]
  },
  {
   "cell_type": "code",
   "execution_count": 80,
   "id": "78a3b9f0-d08f-4308-8bcc-11441ffc3b0b",
   "metadata": {},
   "outputs": [
    {
     "data": {
      "text/plain": [
       "min     1\n",
       "max     7\n",
       "sum    28\n",
       "dtype: int64"
      ]
     },
     "execution_count": 80,
     "metadata": {},
     "output_type": "execute_result"
    }
   ],
   "source": [
    "sr.agg(['min', 'max', 'sum'])"
   ]
  },
  {
   "cell_type": "markdown",
   "id": "dd11d175-aa17-4633-a7df-9c2c5b81b2a4",
   "metadata": {},
   "source": [
    "### Series Absolute Function"
   ]
  },
  {
   "cell_type": "code",
   "execution_count": 83,
   "id": "d2251a6a-08b6-4a60-ac67-a8c5ef79bf32",
   "metadata": {},
   "outputs": [],
   "source": [
    "# pandas series.absolut() method is used to get the absolute numeric value of each element in series/DataFFrame "
   ]
  },
  {
   "cell_type": "code",
   "execution_count": 85,
   "id": "f8d464a6-44c9-49d0-8bbb-de73efbf4197",
   "metadata": {},
   "outputs": [
    {
     "data": {
      "text/plain": [
       "0    1\n",
       "1    2\n",
       "2    4\n",
       "3    5\n",
       "4    6\n",
       "5    7\n",
       "dtype: int64"
      ]
     },
     "execution_count": 85,
     "metadata": {},
     "output_type": "execute_result"
    }
   ],
   "source": [
    "sre = pd.Series([-1, -2, -4, 5, -6, 7])\n",
    "sre.abs()"
   ]
  },
  {
   "cell_type": "markdown",
   "id": "49b5624b-b1b5-4ebf-9f77-378ce39215f5",
   "metadata": {},
   "source": [
    "### Appending Series"
   ]
  },
  {
   "cell_type": "code",
   "execution_count": 88,
   "id": "e9bed291-f76c-428d-bb2a-e79d8f0f1800",
   "metadata": {},
   "outputs": [],
   "source": [
    "# Append f/c is used to concatenate two or more series object\n",
    "# Append f/c have removed from future version of pandas so instead of append use pd.concat([arg1, arg2])"
   ]
  },
  {
   "cell_type": "code",
   "execution_count": 90,
   "id": "36ce37bd-00e8-468b-9ac9-e9f1f2f057b0",
   "metadata": {},
   "outputs": [
    {
     "data": {
      "text/plain": [
       "(0    1\n",
       " 1   -2\n",
       " 2    3\n",
       " 3   -4\n",
       " 4    5\n",
       " 5   -6\n",
       " 6    7\n",
       " dtype: int64,\n",
       " 0    1\n",
       " 1    2\n",
       " 2    3\n",
       " 3    4\n",
       " 4    5\n",
       " 5    6\n",
       " 6    7\n",
       " dtype: int64)"
      ]
     },
     "execution_count": 90,
     "metadata": {},
     "output_type": "execute_result"
    }
   ],
   "source": [
    "sr1 = pd.Series([1,-2,3,-4,5,-6,7])\n",
    "sr2 = pd.Series([1,2,3,4,5,6,7])\n",
    "sr1,sr2"
   ]
  },
  {
   "cell_type": "code",
   "execution_count": 96,
   "id": "717758d9-f302-4ee0-ab1b-771754ba8b84",
   "metadata": {},
   "outputs": [
    {
     "data": {
      "text/plain": [
       "0    1\n",
       "1   -2\n",
       "2    3\n",
       "3   -4\n",
       "4    5\n",
       "5   -6\n",
       "6    7\n",
       "0    1\n",
       "1    2\n",
       "2    3\n",
       "3    4\n",
       "4    5\n",
       "5    6\n",
       "6    7\n",
       "dtype: int64"
      ]
     },
     "execution_count": 96,
     "metadata": {},
     "output_type": "execute_result"
    }
   ],
   "source": [
    "pd.concat([sr1,sr2])"
   ]
  },
  {
   "cell_type": "markdown",
   "id": "2c2774ba-dfce-4e89-b380-5b5d083a33dd",
   "metadata": {},
   "source": [
    "### Astype Function"
   ]
  },
  {
   "cell_type": "code",
   "execution_count": 99,
   "id": "102ed485-43b5-4d51-b638-74c66398e7b4",
   "metadata": {},
   "outputs": [],
   "source": [
    "# Astype f/c is the most important function it is used to change data type of a series."
   ]
  },
  {
   "cell_type": "code",
   "execution_count": 101,
   "id": "ef5bd76f-f359-4bc4-8430-3dae29157939",
   "metadata": {},
   "outputs": [
    {
     "data": {
      "text/plain": [
       "0    1\n",
       "1   -2\n",
       "2    3\n",
       "3   -4\n",
       "4    5\n",
       "5   -6\n",
       "6    7\n",
       "dtype: int64"
      ]
     },
     "execution_count": 101,
     "metadata": {},
     "output_type": "execute_result"
    }
   ],
   "source": [
    "sr1"
   ]
  },
  {
   "cell_type": "code",
   "execution_count": 103,
   "id": "c04b407d-11c4-4fa2-9766-dc280f1b8092",
   "metadata": {},
   "outputs": [
    {
     "data": {
      "text/plain": [
       "pandas.core.series.Series"
      ]
     },
     "execution_count": 103,
     "metadata": {},
     "output_type": "execute_result"
    }
   ],
   "source": [
    "type(sr1)"
   ]
  },
  {
   "cell_type": "code",
   "execution_count": 105,
   "id": "af362b29-6158-448f-a940-5988c1221fbc",
   "metadata": {},
   "outputs": [
    {
     "data": {
      "text/plain": [
       "numpy.int64"
      ]
     },
     "execution_count": 105,
     "metadata": {},
     "output_type": "execute_result"
    }
   ],
   "source": [
    "type(sr1[0])"
   ]
  },
  {
   "cell_type": "code",
   "execution_count": 107,
   "id": "d4fe523a-cf83-4ff0-a8a8-13f3559e709f",
   "metadata": {},
   "outputs": [
    {
     "data": {
      "text/plain": [
       "0    1.0\n",
       "1   -2.0\n",
       "2    3.0\n",
       "3   -4.0\n",
       "4    5.0\n",
       "5   -6.0\n",
       "6    7.0\n",
       "dtype: float64"
      ]
     },
     "execution_count": 107,
     "metadata": {},
     "output_type": "execute_result"
    }
   ],
   "source": [
    "sr1.astype('float')"
   ]
  },
  {
   "cell_type": "code",
   "execution_count": 109,
   "id": "370af7dc-d375-4c38-864d-9d681cf794e1",
   "metadata": {},
   "outputs": [
    {
     "data": {
      "text/plain": [
       "0     1\n",
       "1    -2\n",
       "2     3\n",
       "3    -4\n",
       "4     5\n",
       "5    -6\n",
       "6     7\n",
       "dtype: object"
      ]
     },
     "execution_count": 109,
     "metadata": {},
     "output_type": "execute_result"
    }
   ],
   "source": [
    "sr1.astype('str')"
   ]
  },
  {
   "cell_type": "markdown",
   "id": "72be076b-18ba-44fc-b731-24fef8d3782e",
   "metadata": {},
   "source": [
    "### Between Function"
   ]
  },
  {
   "cell_type": "code",
   "execution_count": 112,
   "id": "f1ee5f6f-d116-4252-8e28-894f874fee5b",
   "metadata": {},
   "outputs": [],
   "source": [
    "# Used to check which values lies between first and second argument"
   ]
  },
  {
   "cell_type": "code",
   "execution_count": 114,
   "id": "09b86683-5f15-4314-be8f-1e57e95835fb",
   "metadata": {},
   "outputs": [
    {
     "data": {
      "text/plain": [
       "0    False\n",
       "1    False\n",
       "2    False\n",
       "3    False\n",
       "4    False\n",
       "5    False\n",
       "6    False\n",
       "7    False\n",
       "dtype: bool"
      ]
     },
     "execution_count": 114,
     "metadata": {},
     "output_type": "execute_result"
    }
   ],
   "source": [
    "ser1 = pd.Series([1,6,3,9,8,5,3,2])\n",
    "ser1.between(6,5)"
   ]
  },
  {
   "cell_type": "code",
   "execution_count": 116,
   "id": "a38b9188-29be-4d27-8206-e8a886bac463",
   "metadata": {},
   "outputs": [
    {
     "data": {
      "text/plain": [
       "0    False\n",
       "1     True\n",
       "2    False\n",
       "3    False\n",
       "4    False\n",
       "5     True\n",
       "6    False\n",
       "7    False\n",
       "dtype: bool"
      ]
     },
     "execution_count": 116,
     "metadata": {},
     "output_type": "execute_result"
    }
   ],
   "source": [
    "ser1 = pd.Series([1,6,3,9,8,5,3,2])\n",
    "ser1.between(5,6)"
   ]
  },
  {
   "cell_type": "code",
   "execution_count": 118,
   "id": "11ea8329-4c8f-4ec7-8f82-a58c30b1526d",
   "metadata": {},
   "outputs": [
    {
     "data": {
      "text/plain": [
       "0    False\n",
       "1     True\n",
       "2     True\n",
       "3    False\n",
       "4     True\n",
       "5     True\n",
       "6     True\n",
       "7     True\n",
       "dtype: bool"
      ]
     },
     "execution_count": 118,
     "metadata": {},
     "output_type": "execute_result"
    }
   ],
   "source": [
    "ser1 = pd.Series([1,6,3,9,8,5,3,2])\n",
    "ser1.between(2,8)"
   ]
  },
  {
   "cell_type": "markdown",
   "id": "8a3c08ce-46d8-4d88-88fb-225e05569e2a",
   "metadata": {},
   "source": [
    "# All String f/c can be used to Extract or Modify text in Series"
   ]
  },
  {
   "cell_type": "markdown",
   "id": "b492a088-f427-44d0-b83c-a03dbad4867c",
   "metadata": {},
   "source": [
    "### 1. Upper and Lower Function"
   ]
  },
  {
   "cell_type": "code",
   "execution_count": 123,
   "id": "3729d41f-8161-4942-bd0f-af97c3114238",
   "metadata": {},
   "outputs": [
    {
     "data": {
      "text/plain": [
       "0     Eshant\n",
       "1    Pranjal\n",
       "2     Jayesh\n",
       "3     Ashish\n",
       "dtype: object"
      ]
     },
     "execution_count": 123,
     "metadata": {},
     "output_type": "execute_result"
    }
   ],
   "source": [
    "sr = pd.Series(['Eshant', 'Pranjal', 'Jayesh', 'Ashish'])\n",
    "sr"
   ]
  },
  {
   "cell_type": "code",
   "execution_count": 125,
   "id": "eabd275f-789e-45a7-9783-929f0431be04",
   "metadata": {},
   "outputs": [
    {
     "data": {
      "text/plain": [
       "0     ESHANT\n",
       "1    PRANJAL\n",
       "2     JAYESH\n",
       "3     ASHISH\n",
       "dtype: object"
      ]
     },
     "execution_count": 125,
     "metadata": {},
     "output_type": "execute_result"
    }
   ],
   "source": [
    "sr.str.upper() # it will convert letter in upper case"
   ]
  },
  {
   "cell_type": "code",
   "execution_count": 127,
   "id": "df2f36a9-2248-462c-8026-26294ab2bea5",
   "metadata": {},
   "outputs": [
    {
     "data": {
      "text/plain": [
       "0     eshant\n",
       "1    pranjal\n",
       "2     jayesh\n",
       "3     ashish\n",
       "dtype: object"
      ]
     },
     "execution_count": 127,
     "metadata": {},
     "output_type": "execute_result"
    }
   ],
   "source": [
    "sr.str.lower() # It will convert letter in lower case"
   ]
  },
  {
   "cell_type": "markdown",
   "id": "95e0c8ae-0b9a-4a5e-b6c1-8f0961ea850c",
   "metadata": {},
   "source": [
    "### 2. Length Function"
   ]
  },
  {
   "cell_type": "code",
   "execution_count": 130,
   "id": "30126c80-6c49-4727-9b89-09b9740d392f",
   "metadata": {},
   "outputs": [
    {
     "name": "stdout",
     "output_type": "stream",
     "text": [
      "6\n",
      "7\n",
      "6\n",
      "6\n"
     ]
    }
   ],
   "source": [
    "for i in sr:\n",
    "    print(len(i))"
   ]
  },
  {
   "cell_type": "markdown",
   "id": "569abe2c-a029-402b-9b5b-f66527c38476",
   "metadata": {},
   "source": [
    "### 3. Strip Function "
   ]
  },
  {
   "cell_type": "code",
   "execution_count": 135,
   "id": "a8151fc7-6ec3-4022-ac8c-671d5f03bbb3",
   "metadata": {},
   "outputs": [],
   "source": [
    "# Strip f/c are used to remove extra spaces"
   ]
  },
  {
   "cell_type": "code",
   "execution_count": 139,
   "id": "3557ea79-4865-4c5b-8137-5b305547bf80",
   "metadata": {},
   "outputs": [
    {
     "name": "stdout",
     "output_type": "stream",
     "text": [
      "   Eshant 9\n",
      "Pranjal     11\n",
      "  Jayesh   10\n",
      "Ashish       12\n"
     ]
    }
   ],
   "source": [
    "ser = pd.Series(['   Eshant', 'Pranjal    ', '  Jayesh  ', 'Ashish      '])\n",
    "for i in ser:\n",
    "    print(i, len(i))"
   ]
  },
  {
   "cell_type": "code",
   "execution_count": 143,
   "id": "6f8777f4-bb2c-477e-9df8-a2d532f97ff8",
   "metadata": {},
   "outputs": [],
   "source": [
    "series = ser.str.strip()"
   ]
  },
  {
   "cell_type": "code",
   "execution_count": 145,
   "id": "9c31f013-057c-41da-9b4f-050724fcf78b",
   "metadata": {},
   "outputs": [
    {
     "name": "stdout",
     "output_type": "stream",
     "text": [
      "Eshant 6\n",
      "Pranjal 7\n",
      "Jayesh 6\n",
      "Ashish 6\n"
     ]
    }
   ],
   "source": [
    "for i in series:\n",
    "    print(i, len(i))"
   ]
  },
  {
   "cell_type": "markdown",
   "id": "2207801e-1a0b-4556-b819-ee2f9e689736",
   "metadata": {},
   "source": [
    "### 4. Split Function"
   ]
  },
  {
   "cell_type": "code",
   "execution_count": 148,
   "id": "829f9dc3-3385-4c4d-943e-a9e8da0a16e9",
   "metadata": {},
   "outputs": [],
   "source": [
    "# Split function, split every first word in the pandas series"
   ]
  },
  {
   "cell_type": "code",
   "execution_count": 152,
   "id": "2af887aa-642d-4bc8-92bf-2f984cc033e5",
   "metadata": {},
   "outputs": [
    {
     "data": {
      "text/plain": [
       "0          Eshant Das\n",
       "1        Data Science\n",
       "2       Pranjal Kumar\n",
       "3         Hello World\n",
       "4    Machine Learning\n",
       "dtype: object"
      ]
     },
     "execution_count": 152,
     "metadata": {},
     "output_type": "execute_result"
    }
   ],
   "source": [
    "ser_ = pd.Series([\"Eshant Das\", \"Data Science\", \"Pranjal Kumar\", \"Hello World\", \"Machine Learning\"])\n",
    "ser_"
   ]
  },
  {
   "cell_type": "code",
   "execution_count": 154,
   "id": "058c98f6-4022-4aa5-bd13-fa78adc27807",
   "metadata": {},
   "outputs": [
    {
     "data": {
      "text/plain": [
       "0          [Eshant, Das]\n",
       "1        [Data, Science]\n",
       "2       [Pranjal, Kumar]\n",
       "3         [Hello, World]\n",
       "4    [Machine, Learning]\n",
       "dtype: object"
      ]
     },
     "execution_count": 154,
     "metadata": {},
     "output_type": "execute_result"
    }
   ],
   "source": [
    "ser_ = pd.Series([\"Eshant Das\", \"Data Science\", \"Pranjal Kumar\", \"Hello World\", \"Machine Learning\"])\n",
    "ser_.str.split()"
   ]
  },
  {
   "cell_type": "code",
   "execution_count": 156,
   "id": "f6c85424-893a-4b51-9bd9-a52b5feabab3",
   "metadata": {},
   "outputs": [
    {
     "data": {
      "text/plain": [
       "['Eshant', 'Das']"
      ]
     },
     "execution_count": 156,
     "metadata": {},
     "output_type": "execute_result"
    }
   ],
   "source": [
    "ser_.str.split()[0]"
   ]
  },
  {
   "cell_type": "code",
   "execution_count": 158,
   "id": "ecf0dc04-a112-4e45-a9e3-f87ee2b8591a",
   "metadata": {},
   "outputs": [
    {
     "data": {
      "text/plain": [
       "['Machine', 'Learning']"
      ]
     },
     "execution_count": 158,
     "metadata": {},
     "output_type": "execute_result"
    }
   ],
   "source": [
    "ser_.str.split()[4]"
   ]
  },
  {
   "cell_type": "code",
   "execution_count": 164,
   "id": "12532b56-82fc-43fe-a2d0-69444a0ab00f",
   "metadata": {},
   "outputs": [
    {
     "data": {
      "text/plain": [
       "0    10/03/1983\n",
       "1    18/09/2008\n",
       "2    27/12/1961\n",
       "3    05/05/2024\n",
       "dtype: object"
      ]
     },
     "execution_count": 164,
     "metadata": {},
     "output_type": "execute_result"
    }
   ],
   "source": [
    "num = pd.Series(['10/03/1983', '18/09/2008', '27/12/1961', '05/05/2024'])\n",
    "num"
   ]
  },
  {
   "cell_type": "code",
   "execution_count": 170,
   "id": "d7122309-8b37-46d0-9456-f79db33f5073",
   "metadata": {},
   "outputs": [
    {
     "data": {
      "text/plain": [
       "0    [10/03/1983]\n",
       "1    [18/09/2008]\n",
       "2    [27/12/1961]\n",
       "3    [05/05/2024]\n",
       "dtype: object"
      ]
     },
     "execution_count": 170,
     "metadata": {},
     "output_type": "execute_result"
    }
   ],
   "source": [
    "num.str.split()"
   ]
  },
  {
   "cell_type": "code",
   "execution_count": 172,
   "id": "0f314c53-47a4-4eac-b4db-52c115a43e94",
   "metadata": {},
   "outputs": [
    {
     "data": {
      "text/plain": [
       "0    [10, 03, 1983]\n",
       "1    [18, 09, 2008]\n",
       "2    [27, 12, 1961]\n",
       "3    [05, 05, 2024]\n",
       "dtype: object"
      ]
     },
     "execution_count": 172,
     "metadata": {},
     "output_type": "execute_result"
    }
   ],
   "source": [
    "num.str.split('/')"
   ]
  },
  {
   "cell_type": "code",
   "execution_count": 174,
   "id": "279c9f94-1dfd-47b7-9858-f4789294b290",
   "metadata": {},
   "outputs": [
    {
     "data": {
      "text/plain": [
       "['10', '03', '1983']"
      ]
     },
     "execution_count": 174,
     "metadata": {},
     "output_type": "execute_result"
    }
   ],
   "source": [
    "num.str.split('/')[0]"
   ]
  },
  {
   "cell_type": "markdown",
   "id": "e8faf880-ba80-421b-95a2-887617778e52",
   "metadata": {},
   "source": [
    "### 5. Contain Function"
   ]
  },
  {
   "cell_type": "code",
   "execution_count": 177,
   "id": "2bd02710-131c-4af6-b08c-79d17552ff67",
   "metadata": {},
   "outputs": [
    {
     "data": {
      "text/plain": [
       "0    False\n",
       "1     True\n",
       "2    False\n",
       "3     True\n",
       "4    False\n",
       "dtype: bool"
      ]
     },
     "execution_count": 177,
     "metadata": {},
     "output_type": "execute_result"
    }
   ],
   "source": [
    "ser_ = pd.Series([\"Eshant Das\", \"Data @ Science\", \"Pranjal Kumar\", \"Hello @ World\", \"Machine Learning\"])\n",
    "ser_.str.contains('@')"
   ]
  },
  {
   "cell_type": "code",
   "execution_count": 187,
   "id": "0c351229-4e87-452d-b601-bceb8990e36a",
   "metadata": {},
   "outputs": [
    {
     "data": {
      "text/plain": [
       "0    False\n",
       "1    False\n",
       "2     True\n",
       "3     True\n",
       "4    False\n",
       "dtype: bool"
      ]
     },
     "execution_count": 187,
     "metadata": {},
     "output_type": "execute_result"
    }
   ],
   "source": [
    "ser_.str.contains('l')"
   ]
  },
  {
   "cell_type": "code",
   "execution_count": 189,
   "id": "9719e7b9-3922-4244-8f36-faab1631496f",
   "metadata": {},
   "outputs": [
    {
     "data": {
      "text/plain": [
       "0    False\n",
       "1    False\n",
       "2    False\n",
       "3    False\n",
       "4     True\n",
       "dtype: bool"
      ]
     },
     "execution_count": 189,
     "metadata": {},
     "output_type": "execute_result"
    }
   ],
   "source": [
    "ser_.str.contains('L')"
   ]
  },
  {
   "cell_type": "code",
   "execution_count": 191,
   "id": "6c094e3d-e89d-4c75-aa04-ff2068020f1f",
   "metadata": {},
   "outputs": [
    {
     "data": {
      "text/plain": [
       "0     True\n",
       "1    False\n",
       "2    False\n",
       "3    False\n",
       "4    False\n",
       "dtype: bool"
      ]
     },
     "execution_count": 191,
     "metadata": {},
     "output_type": "execute_result"
    }
   ],
   "source": [
    "ser_.str.contains('ant')"
   ]
  },
  {
   "cell_type": "markdown",
   "id": "b232e9d6-7331-4e0b-8176-b24486eeac78",
   "metadata": {},
   "source": [
    "### 6. Replace Function"
   ]
  },
  {
   "cell_type": "code",
   "execution_count": 198,
   "id": "dcf8c12c-a9ba-47eb-9f41-6cabea32f628",
   "metadata": {},
   "outputs": [
    {
     "data": {
      "text/plain": [
       "0    False\n",
       "1     True\n",
       "2    False\n",
       "3     True\n",
       "4    False\n",
       "dtype: bool"
      ]
     },
     "execution_count": 198,
     "metadata": {},
     "output_type": "execute_result"
    }
   ],
   "source": [
    "ser_.str.contains('@')"
   ]
  },
  {
   "cell_type": "code",
   "execution_count": 200,
   "id": "b0128dca-b8cf-41ee-b688-9df5c1070efc",
   "metadata": {},
   "outputs": [
    {
     "data": {
      "text/plain": [
       "0          Eshant Das\n",
       "1       Data  Science\n",
       "2       Pranjal Kumar\n",
       "3        Hello  World\n",
       "4    Machine Learning\n",
       "dtype: object"
      ]
     },
     "execution_count": 200,
     "metadata": {},
     "output_type": "execute_result"
    }
   ],
   "source": [
    "ser_.str.replace('@', '')"
   ]
  },
  {
   "cell_type": "code",
   "execution_count": 202,
   "id": "f5bc2f99-f800-49bc-9b38-eecafd220e8a",
   "metadata": {},
   "outputs": [
    {
     "data": {
      "text/plain": [
       "0     Eshant Dushyant\n",
       "1      Data @ Science\n",
       "2       Pranjal Kumar\n",
       "3       Hello @ World\n",
       "4    Machine Learning\n",
       "dtype: object"
      ]
     },
     "execution_count": 202,
     "metadata": {},
     "output_type": "execute_result"
    }
   ],
   "source": [
    "ser_.str.replace('Das', 'Dushyant')"
   ]
  },
  {
   "cell_type": "markdown",
   "id": "c04c5c10-94a1-4fb1-a15a-b6692b1cf2b5",
   "metadata": {},
   "source": [
    "### 7. Count Function"
   ]
  },
  {
   "cell_type": "code",
   "execution_count": 205,
   "id": "b0bedb28-feae-4799-a9a4-20a306baf3f1",
   "metadata": {},
   "outputs": [
    {
     "data": {
      "text/plain": [
       "0    2\n",
       "1    2\n",
       "2    3\n",
       "3    0\n",
       "4    2\n",
       "dtype: int64"
      ]
     },
     "execution_count": 205,
     "metadata": {},
     "output_type": "execute_result"
    }
   ],
   "source": [
    "ser_.str.count('a')"
   ]
  },
  {
   "cell_type": "markdown",
   "id": "d84b50e9-d5b2-4d5e-b226-c91880aa5ddd",
   "metadata": {},
   "source": [
    "### 8. Startswith and Endswidth"
   ]
  },
  {
   "cell_type": "code",
   "execution_count": 209,
   "id": "5653287d-6b5f-4bbf-a88d-050b0375ce54",
   "metadata": {},
   "outputs": [],
   "source": [
    "# This will show that the element start and end with these character or not"
   ]
  },
  {
   "cell_type": "code",
   "execution_count": 221,
   "id": "a2b6cc4e-519f-4941-bcad-60a39791190c",
   "metadata": {},
   "outputs": [
    {
     "data": {
      "text/plain": [
       "0     True\n",
       "1    False\n",
       "2    False\n",
       "3    False\n",
       "4    False\n",
       "dtype: bool"
      ]
     },
     "execution_count": 221,
     "metadata": {},
     "output_type": "execute_result"
    }
   ],
   "source": [
    "ser_.str.endswith('s')"
   ]
  },
  {
   "cell_type": "code",
   "execution_count": 225,
   "id": "38821ece-46fb-4921-9a8d-534083c30ada",
   "metadata": {},
   "outputs": [
    {
     "data": {
      "text/plain": [
       "0    False\n",
       "1     True\n",
       "2    False\n",
       "3    False\n",
       "4    False\n",
       "dtype: bool"
      ]
     },
     "execution_count": 225,
     "metadata": {},
     "output_type": "execute_result"
    }
   ],
   "source": [
    "ser_.str.endswith('nce')"
   ]
  },
  {
   "cell_type": "code",
   "execution_count": 227,
   "id": "be5913bd-9e83-4469-8087-7f87a8e98496",
   "metadata": {},
   "outputs": [
    {
     "data": {
      "text/plain": [
       "0    False\n",
       "1    False\n",
       "2    False\n",
       "3    False\n",
       "4     True\n",
       "dtype: bool"
      ]
     },
     "execution_count": 227,
     "metadata": {},
     "output_type": "execute_result"
    }
   ],
   "source": [
    "ser_.str.startswith('Ma')"
   ]
  },
  {
   "cell_type": "markdown",
   "id": "b97415e3-76d6-4d46-8ce7-a7774eaa6f78",
   "metadata": {},
   "source": [
    "### 9. Find Function"
   ]
  },
  {
   "cell_type": "code",
   "execution_count": 230,
   "id": "1f059f8d-8b00-48da-ba78-dedeae173bcf",
   "metadata": {},
   "outputs": [
    {
     "data": {
      "text/plain": [
       "0   -1\n",
       "1   -1\n",
       "2   -1\n",
       "3   -1\n",
       "4    8\n",
       "dtype: int64"
      ]
     },
     "execution_count": 230,
     "metadata": {},
     "output_type": "execute_result"
    }
   ],
   "source": [
    "ser_.str.find('Learning')"
   ]
  },
  {
   "cell_type": "code",
   "execution_count": 232,
   "id": "b7d1b1dc-4d6c-44ec-929f-73792c46a485",
   "metadata": {},
   "outputs": [
    {
     "data": {
      "text/plain": [
       "0   -1\n",
       "1    5\n",
       "2   -1\n",
       "3    6\n",
       "4   -1\n",
       "dtype: int64"
      ]
     },
     "execution_count": 232,
     "metadata": {},
     "output_type": "execute_result"
    }
   ],
   "source": [
    "ser_.str.find('@')"
   ]
  },
  {
   "cell_type": "code",
   "execution_count": 234,
   "id": "e2368309-0852-4160-b959-174b1c3f5bba",
   "metadata": {},
   "outputs": [
    {
     "data": {
      "text/plain": [
       "0   -1\n",
       "1   -1\n",
       "2   -1\n",
       "3    0\n",
       "4   -1\n",
       "dtype: int64"
      ]
     },
     "execution_count": 234,
     "metadata": {},
     "output_type": "execute_result"
    }
   ],
   "source": [
    "ser_.str.find('H')"
   ]
  },
  {
   "cell_type": "markdown",
   "id": "83beabcf-2dce-4b88-ba40-c3b5ae5217ef",
   "metadata": {},
   "source": [
    "## Converting a Series to List"
   ]
  },
  {
   "cell_type": "code",
   "execution_count": 238,
   "id": "bf2a7274-5ed4-4cce-8e0a-d912871ebfd5",
   "metadata": {},
   "outputs": [],
   "source": [
    "# Pandas tolist() f/c is used to convert a series into list"
   ]
  },
  {
   "cell_type": "code",
   "execution_count": 240,
   "id": "a1de581d-de42-46ff-a9fb-e749b892b8fb",
   "metadata": {},
   "outputs": [
    {
     "data": {
      "text/plain": [
       "['Eshant Das',\n",
       " 'Data @ Science',\n",
       " 'Pranjal Kumar',\n",
       " 'Hello @ World',\n",
       " 'Machine Learning']"
      ]
     },
     "execution_count": 240,
     "metadata": {},
     "output_type": "execute_result"
    }
   ],
   "source": [
    "ser_.to_list()"
   ]
  },
  {
   "cell_type": "code",
   "execution_count": 244,
   "id": "a1935f56-1691-46b7-92d5-1b1d589411b9",
   "metadata": {},
   "outputs": [
    {
     "data": {
      "text/plain": [
       "list"
      ]
     },
     "execution_count": 244,
     "metadata": {},
     "output_type": "execute_result"
    }
   ],
   "source": [
    "type(ser_.to_list())"
   ]
  }
 ],
 "metadata": {
  "kernelspec": {
   "display_name": "Python 3 (ipykernel)",
   "language": "python",
   "name": "python3"
  },
  "language_info": {
   "codemirror_mode": {
    "name": "ipython",
    "version": 3
   },
   "file_extension": ".py",
   "mimetype": "text/x-python",
   "name": "python",
   "nbconvert_exporter": "python",
   "pygments_lexer": "ipython3",
   "version": "3.12.3"
  }
 },
 "nbformat": 4,
 "nbformat_minor": 5
}
