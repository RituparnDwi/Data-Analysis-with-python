{
 "cells": [
  {
   "cell_type": "markdown",
   "id": "05d410d9-2fd8-42b8-91f9-a76cff2cbe93",
   "metadata": {},
   "source": [
    "# Inventry Management - JSON"
   ]
  },
  {
   "cell_type": "code",
   "execution_count": 2,
   "id": "4f7e83c1-225f-41fc-90bf-af09c5d35932",
   "metadata": {},
   "outputs": [],
   "source": [
    "import json"
   ]
  },
  {
   "cell_type": "code",
   "execution_count": 4,
   "id": "ff79527b-de70-4288-89b5-a85fa510101d",
   "metadata": {},
   "outputs": [],
   "source": [
    "record_ = {1001 : {'Name' : '5 Stra',         'Price' : 10, 'Qn' : 200}, \n",
    "          1002 : {'Name' : 'Bar-One',        'Price' : 20, 'Qn' : 100}, \n",
    "          1003 : {'Name' : 'Candy',          'Price' : 2,  'Qn' : 1000},\n",
    "          1004 : {'Name' : 'Chocolate cake', 'Price' : 550, 'Qn' : 8} ,\n",
    "          1005 : {'Name' : 'Bluberry cake', 'Price' : 650, 'Qn' : 5}}"
   ]
  },
  {
   "cell_type": "code",
   "execution_count": 6,
   "id": "4e3dcfd5-c2f2-478c-9d33-a493875fea9c",
   "metadata": {},
   "outputs": [
    {
     "name": "stdout",
     "output_type": "stream",
     "text": [
      "-------------MENU---------------\n",
      "\n",
      "1001 : 5 Stra | 10 | 200\n",
      "1002 : Bar-One | 20 | 100\n",
      "1003 : Candy | 2 | 1000\n",
      "1004 : Chocolate cake | 550 | 8\n",
      "1005 : Bluberry cake | 650 | 5\n",
      "--------------------------------\n",
      "\n"
     ]
    },
    {
     "name": "stdin",
     "output_type": "stream",
     "text": [
      "Product Id : 1001\n",
      "Quantity : 2\n"
     ]
    },
    {
     "name": "stdout",
     "output_type": "stream",
     "text": [
      "--------------------------------\n",
      "            Bill              \n",
      "\n",
      "Product Name  :  5 Stra\n",
      "Price         :  10 Rs\n",
      "Quantity      :  2\n",
      "--------------------------------\n",
      "Billing Amount :  20 Rs\n",
      "--------------------------------\n"
     ]
    }
   ],
   "source": [
    "print('-------------MENU---------------\\n')\n",
    "\n",
    "for key in record_.keys():\n",
    "    print(key, ':', record_[key]['Name'], '|', record_[key]['Price'], '|', record_[key]['Qn'])\n",
    "\n",
    "print('--------------------------------\\n')\n",
    "\n",
    "User_Input = int(input('Product Id :'))\n",
    "User_demand = int(input('Quantity :'))\n",
    "\n",
    "record_[User_Input]['Qn'] = record_[User_Input]['Qn'] - User_demand\n",
    "\n",
    "print('--------------------------------')\n",
    "print('            Bill              \\n')\n",
    "\n",
    "print('Product Name  : ',record_[User_Input]['Name'])\n",
    "print('Price         : ',record_[User_Input]['Price'], 'Rs')\n",
    "print('Quantity      : ',User_demand)\n",
    "\n",
    "print('--------------------------------')\n",
    "print('Billing Amount : ',record_[User_Input]['Price'] * User_demand, 'Rs')\n",
    "print('--------------------------------')\n",
    "\n",
    "# to save the record in json file \n",
    "js = json.dumps(record_)\n",
    "\n",
    "fd = open('Records.json','w')\n",
    "fd.write(js)\n",
    "fd.close()"
   ]
  },
  {
   "cell_type": "code",
   "execution_count": 8,
   "id": "92dda596-7868-4f3d-a050-1359a1bb5208",
   "metadata": {},
   "outputs": [
    {
     "data": {
      "text/plain": [
       "{1001: {'Name': '5 Stra', 'Price': 10, 'Qn': 198},\n",
       " 1002: {'Name': 'Bar-One', 'Price': 20, 'Qn': 100},\n",
       " 1003: {'Name': 'Candy', 'Price': 2, 'Qn': 1000},\n",
       " 1004: {'Name': 'Chocolate cake', 'Price': 550, 'Qn': 8},\n",
       " 1005: {'Name': 'Bluberry cake', 'Price': 650, 'Qn': 5}}"
      ]
     },
     "execution_count": 8,
     "metadata": {},
     "output_type": "execute_result"
    }
   ],
   "source": [
    "record_"
   ]
  },
  {
   "cell_type": "markdown",
   "id": "4cc6b48d-b5ef-42b1-893c-027b2c1a85ef",
   "metadata": {},
   "source": [
    "# Updating Inventory"
   ]
  },
  {
   "cell_type": "code",
   "execution_count": 12,
   "id": "0eb33345-0c06-403c-857b-2a43677b79ad",
   "metadata": {},
   "outputs": [],
   "source": [
    "import json"
   ]
  },
  {
   "cell_type": "code",
   "execution_count": 14,
   "id": "2cc10c38-2891-4a79-8b64-cf3b0d334be1",
   "metadata": {},
   "outputs": [
    {
     "data": {
      "text/plain": [
       "{1001: {'Name': '5 Stra', 'Price': 10, 'Qn': 200},\n",
       " 1002: {'Name': 'Bar-One', 'Price': 20, 'Qn': 100},\n",
       " 1003: {'Name': 'Candy', 'Price': 2, 'Qn': 1000},\n",
       " 1004: {'Name': 'Chocolate cake', 'Price': 550, 'Qn': 8},\n",
       " 1005: {'Name': 'Bluberry cake', 'Price': 650, 'Qn': 5}}"
      ]
     },
     "execution_count": 14,
     "metadata": {},
     "output_type": "execute_result"
    }
   ],
   "source": [
    "record_\n"
   ]
  },
  {
   "cell_type": "code",
   "execution_count": 18,
   "id": "1eb1348e-46f1-492c-979a-45b96d64b7fe",
   "metadata": {},
   "outputs": [],
   "source": [
    "# to save the dictionary in json\n",
    "js = json.dumps(record_)"
   ]
  },
  {
   "cell_type": "code",
   "execution_count": 20,
   "id": "a2350e6c-fecb-43e6-bd8d-7aad9dfc3f5a",
   "metadata": {},
   "outputs": [
    {
     "data": {
      "text/plain": [
       "'{\"1001\": {\"Name\": \"5 Stra\", \"Price\": 10, \"Qn\": 200}, \"1002\": {\"Name\": \"Bar-One\", \"Price\": 20, \"Qn\": 100}, \"1003\": {\"Name\": \"Candy\", \"Price\": 2, \"Qn\": 1000}, \"1004\": {\"Name\": \"Chocolate cake\", \"Price\": 550, \"Qn\": 8}, \"1005\": {\"Name\": \"Bluberry cake\", \"Price\": 650, \"Qn\": 5}}'"
      ]
     },
     "execution_count": 20,
     "metadata": {},
     "output_type": "execute_result"
    }
   ],
   "source": [
    "js"
   ]
  },
  {
   "cell_type": "code",
   "execution_count": 22,
   "id": "04725cf5-4eb3-47f4-a8cd-92f1f4761af2",
   "metadata": {},
   "outputs": [
    {
     "data": {
      "text/plain": [
       "str"
      ]
     },
     "execution_count": 22,
     "metadata": {},
     "output_type": "execute_result"
    }
   ],
   "source": [
    "type(js)"
   ]
  },
  {
   "cell_type": "code",
   "execution_count": 31,
   "id": "ded0a4f5-f4cd-4393-8bde-a7ee5cd52925",
   "metadata": {},
   "outputs": [],
   "source": [
    "# to save the record in json file \n",
    "fd = open('Records.json','w')\n",
    "fd.write(js)\n",
    "fd.close()"
   ]
  },
  {
   "cell_type": "code",
   "execution_count": 28,
   "id": "cb588c23-b93e-4232-bdda-faa25f266ee0",
   "metadata": {},
   "outputs": [
    {
     "name": "stdout",
     "output_type": "stream",
     "text": [
      " Volume in drive C has no label.\n",
      " Volume Serial Number is 3A49-4C91\n",
      "\n",
      " Directory of C:\\Users\\Rituparn Dwivedi\n",
      "\n",
      "22-01-2025  12:48    <DIR>          .\n",
      "22-01-2025  12:48    <DIR>          ..\n",
      "05-08-2024  00:39    <DIR>          .anaconda\n",
      "13-10-2024  16:36    <DIR>          .cache\n",
      "20-09-2024  21:24    <DIR>          .conda\n",
      "06-08-2024  13:20                25 .condarc\n",
      "05-08-2024  00:38    <DIR>          .continuum\n",
      "26-08-2024  00:03    <DIR>          .idlerc\n",
      "22-01-2025  11:43    <DIR>          .ipynb_checkpoints\n",
      "09-06-2024  13:24    <DIR>          .ipython\n",
      "10-06-2024  09:43    <DIR>          .jupyter\n",
      "23-08-2024  22:16    <DIR>          .matplotlib\n",
      "08-10-2023  16:54    <DIR>          3D Objects\n",
      "09-01-2025  18:00         7,077,973 AB_NYC_2019.csv\n",
      "13-10-2024  13:40    <DIR>          anaconda3\n",
      "09-06-2024  13:43             2,060 Basic Syntax\n",
      "14-01-2025  21:52            24,645 Binary Search.ipynb\n",
      "11-01-2025  20:30             3,600 Binary search2.ipynb\n",
      "03-12-2024  16:26            15,958 Conditional statement.ipynb\n",
      "08-10-2023  16:54    <DIR>          Contacts\n",
      "06-01-2025  19:25            65,864 Data Analysis - Categorical.ipynb\n",
      "06-01-2025  17:39            60,784 Data Analysis.ipynb\n",
      "17-01-2025  13:34           277,482 Data Reading.ipynb\n",
      "09-01-2025  17:28            88,071 Data Splitting.ipynb\n",
      "26-12-2024  19:33            30,437 Data Type Practice.ipynb\n",
      "17-01-2025  12:07            16,211 data.txt\n",
      "05-01-2025  15:17            10,384 data_for_lr.csv\n",
      "06-01-2025  17:44           224,008 data_season.csv\n",
      "26-12-2024  11:06           359,385 Decision Tree (Entropy).ipynb\n",
      "26-12-2024  11:06           146,712 Decision Tree 3.ipynb\n",
      "23-12-2024  17:44           100,805 Decision Tree.ipynb\n",
      "26-12-2024  11:02           335,479 Decision_tree_cart.ipynb\n",
      "20-01-2025  15:54    <DIR>          Desktop\n",
      "17-01-2025  19:15    <DIR>          Documents\n",
      "20-01-2025  14:21    <DIR>          Downloads\n",
      "10-01-2025  10:44            47,435 DT Practice2.ipynb\n",
      "20-01-2025  15:01            89,639 DT Regression.ipynb\n",
      "09-01-2025  16:25            43,266 Encoding-Categorical data.ipynb\n",
      "10-01-2025  10:40           903,076 Exploratory Data Analysis - Bivariate.ipynb\n",
      "09-01-2025  19:43           388,281 Exploratory Data Analysis.ipynb\n",
      "29-11-2024  12:33    <DIR>          Favorites\n",
      "14-01-2025  12:44             9,836 Function & OOPs.ipynb\n",
      "16-08-2024  17:33            11,198 Function and module.ipynb\n",
      "21-08-2024  16:19            10,680 GeeksforGeeks.ipynb\n",
      "26-12-2024  11:04             1,136 golf.dot\n",
      "24-12-2024  12:42               430 golf_df.csv\n",
      "16-12-2024  21:08         1,360,155 googleplaystore.csv\n",
      "22-01-2025  12:21            37,658 Inventory Management Sys.ipynb\n",
      "21-01-2025  13:03                69 Inventory.txt\n",
      "09-01-2025  16:31             3,858 iris.csv\n",
      "01-09-2024  12:29            13,013 JSON.ipynb\n",
      "22-01-2025  12:48             7,307 JSON2.ipynb\n",
      "25-12-2024  15:54               835 K-Mean Clustering Practice.ipynb\n",
      "25-12-2024  15:43           357,683 K-Mean Clustering.ipynb\n",
      "24-08-2024  17:18            54,158 Line Plot.png\n",
      "24-08-2024  17:21            54,158 Line Plot1.png\n",
      "15-01-2025  15:52           139,834 Linear Regression - Practice.ipynb\n",
      "06-04-2024  15:51    <DIR>          Links\n",
      "05-01-2025  13:36            47,816 list practice.ipynb\n",
      "11-01-2025  12:02           183,683 Logistic Regression - Perceptron Trick.ipynb\n",
      "14-01-2025  15:14           308,588 Logistic Regression - Self Practice.ipynb\n",
      "11-01-2025  15:20           207,580 Logistic Regression - Sigmoid Function.ipynb\n",
      "24-08-2024  17:22           638,467 Matplotlib.ipynb\n",
      "29-11-2024  13:51    <DIR>          Microsoft\n",
      "27-12-2023  06:41    <DIR>          Music\n",
      "17-01-2025  13:20               224 New data.txt\n",
      "15-12-2024  20:02            15,465 New Prac2.ipynb\n",
      "03-12-2024  17:07            17,922 New Practice.ipynb\n",
      "08-10-2023  17:08    <DIR>          OneDrive\n",
      "21-08-2024  00:06             8,193 OOPs.ipynb\n",
      "05-09-2024  16:57            18,601 OOPs1.ipynb\n",
      "20-01-2025  12:37           226,399 Outlier.ipynb\n",
      "01-10-2024  14:42            62,583 pandas.ipynb\n",
      "16-04-2024  17:33    <DIR>          Pictures\n",
      "20-01-2025  14:23               246 Position_Salaries (1).csv\n",
      "24-08-2024  19:37             4,339 Projects.ipynb\n",
      "20-01-2025  18:29            21,045 Pyathon Practice.ipynb\n",
      "07-06-2024  16:01    <DIR>          PycharmProjects\n",
      "22-01-2025  12:48               273 Records.json\n",
      "08-10-2023  16:54    <DIR>          Saved Games\n",
      "18-01-2025  10:45             9,787 scholarship.csv\n",
      "23-12-2024  16:17    <DIR>          scikit_learn_data\n",
      "08-10-2023  16:56    <DIR>          Searches\n",
      "13-10-2024  17:03            18,895 SELENIUM.ipynb\n",
      "05-01-2025  16:14           119,110 Simple Linear Regression.ipynb\n",
      "24-08-2024  16:32            54,158 Sin & Cosine Wave.png\n",
      "24-08-2024  16:27            37,249 Sin & Cosine.png\n",
      "23-12-2024  17:59            10,926 Social_Network_Ads.csv\n",
      "20-01-2025  16:04             2,480 StreamLit.ipynb\n",
      "10-01-2025  09:20            61,194 titanic_data.csv\n",
      "13-12-2024  20:42    <DIR>          Tracing\n",
      "06-01-2025  00:10             5,327 Tuple.ipynb\n",
      "08-08-2024  23:03             3,088 Untitled.ipynb\n",
      "08-08-2024  23:05               780 Untitled1.ipynb\n",
      "16-12-2024  22:00            17,960 Untitled2.ipynb\n",
      "11-08-2024  00:09               617 Untitled3.ipynb\n",
      "13-01-2025  11:00             2,602 Untitled4.ipynb\n",
      "27-12-2023  06:49    <DIR>          Videos\n",
      "              69 File(s)     14,479,185 bytes\n",
      "              29 Dir(s)  75,160,899,584 bytes free\n"
     ]
    }
   ],
   "source": [
    "ls"
   ]
  },
  {
   "cell_type": "markdown",
   "id": "30934424-a5b9-4557-a44a-6402e9cba0d1",
   "metadata": {},
   "source": [
    "# Loading Records from Records.json"
   ]
  },
  {
   "cell_type": "code",
   "execution_count": 85,
   "id": "da0c11d1-94bc-4529-8b64-9a0e175b6c06",
   "metadata": {},
   "outputs": [
    {
     "ename": "JSONDecodeError",
     "evalue": "Expecting value: line 1 column 1 (char 0)",
     "output_type": "error",
     "traceback": [
      "\u001b[1;31m---------------------------------------------------------------------------\u001b[0m",
      "\u001b[1;31mJSONDecodeError\u001b[0m                           Traceback (most recent call last)",
      "Cell \u001b[1;32mIn[85], line 2\u001b[0m\n\u001b[0;32m      1\u001b[0m \u001b[38;5;66;03m# convert json str into dictionary\u001b[39;00m\n\u001b[1;32m----> 2\u001b[0m \u001b[43mjson\u001b[49m\u001b[38;5;241;43m.\u001b[39;49m\u001b[43mloads\u001b[49m\u001b[43m(\u001b[49m\u001b[43mjs\u001b[49m\u001b[43m)\u001b[49m\n",
      "File \u001b[1;32m~\\anaconda3\\Lib\\json\\__init__.py:346\u001b[0m, in \u001b[0;36mloads\u001b[1;34m(s, cls, object_hook, parse_float, parse_int, parse_constant, object_pairs_hook, **kw)\u001b[0m\n\u001b[0;32m    341\u001b[0m     s \u001b[38;5;241m=\u001b[39m s\u001b[38;5;241m.\u001b[39mdecode(detect_encoding(s), \u001b[38;5;124m'\u001b[39m\u001b[38;5;124msurrogatepass\u001b[39m\u001b[38;5;124m'\u001b[39m)\n\u001b[0;32m    343\u001b[0m \u001b[38;5;28;01mif\u001b[39;00m (\u001b[38;5;28mcls\u001b[39m \u001b[38;5;129;01mis\u001b[39;00m \u001b[38;5;28;01mNone\u001b[39;00m \u001b[38;5;129;01mand\u001b[39;00m object_hook \u001b[38;5;129;01mis\u001b[39;00m \u001b[38;5;28;01mNone\u001b[39;00m \u001b[38;5;129;01mand\u001b[39;00m\n\u001b[0;32m    344\u001b[0m         parse_int \u001b[38;5;129;01mis\u001b[39;00m \u001b[38;5;28;01mNone\u001b[39;00m \u001b[38;5;129;01mand\u001b[39;00m parse_float \u001b[38;5;129;01mis\u001b[39;00m \u001b[38;5;28;01mNone\u001b[39;00m \u001b[38;5;129;01mand\u001b[39;00m\n\u001b[0;32m    345\u001b[0m         parse_constant \u001b[38;5;129;01mis\u001b[39;00m \u001b[38;5;28;01mNone\u001b[39;00m \u001b[38;5;129;01mand\u001b[39;00m object_pairs_hook \u001b[38;5;129;01mis\u001b[39;00m \u001b[38;5;28;01mNone\u001b[39;00m \u001b[38;5;129;01mand\u001b[39;00m \u001b[38;5;129;01mnot\u001b[39;00m kw):\n\u001b[1;32m--> 346\u001b[0m     \u001b[38;5;28;01mreturn\u001b[39;00m \u001b[43m_default_decoder\u001b[49m\u001b[38;5;241;43m.\u001b[39;49m\u001b[43mdecode\u001b[49m\u001b[43m(\u001b[49m\u001b[43ms\u001b[49m\u001b[43m)\u001b[49m\n\u001b[0;32m    347\u001b[0m \u001b[38;5;28;01mif\u001b[39;00m \u001b[38;5;28mcls\u001b[39m \u001b[38;5;129;01mis\u001b[39;00m \u001b[38;5;28;01mNone\u001b[39;00m:\n\u001b[0;32m    348\u001b[0m     \u001b[38;5;28mcls\u001b[39m \u001b[38;5;241m=\u001b[39m JSONDecoder\n",
      "File \u001b[1;32m~\\anaconda3\\Lib\\json\\decoder.py:337\u001b[0m, in \u001b[0;36mJSONDecoder.decode\u001b[1;34m(self, s, _w)\u001b[0m\n\u001b[0;32m    332\u001b[0m \u001b[38;5;28;01mdef\u001b[39;00m \u001b[38;5;21mdecode\u001b[39m(\u001b[38;5;28mself\u001b[39m, s, _w\u001b[38;5;241m=\u001b[39mWHITESPACE\u001b[38;5;241m.\u001b[39mmatch):\n\u001b[0;32m    333\u001b[0m \u001b[38;5;250m    \u001b[39m\u001b[38;5;124;03m\"\"\"Return the Python representation of ``s`` (a ``str`` instance\u001b[39;00m\n\u001b[0;32m    334\u001b[0m \u001b[38;5;124;03m    containing a JSON document).\u001b[39;00m\n\u001b[0;32m    335\u001b[0m \n\u001b[0;32m    336\u001b[0m \u001b[38;5;124;03m    \"\"\"\u001b[39;00m\n\u001b[1;32m--> 337\u001b[0m     obj, end \u001b[38;5;241m=\u001b[39m \u001b[38;5;28;43mself\u001b[39;49m\u001b[38;5;241;43m.\u001b[39;49m\u001b[43mraw_decode\u001b[49m\u001b[43m(\u001b[49m\u001b[43ms\u001b[49m\u001b[43m,\u001b[49m\u001b[43m \u001b[49m\u001b[43midx\u001b[49m\u001b[38;5;241;43m=\u001b[39;49m\u001b[43m_w\u001b[49m\u001b[43m(\u001b[49m\u001b[43ms\u001b[49m\u001b[43m,\u001b[49m\u001b[43m \u001b[49m\u001b[38;5;241;43m0\u001b[39;49m\u001b[43m)\u001b[49m\u001b[38;5;241;43m.\u001b[39;49m\u001b[43mend\u001b[49m\u001b[43m(\u001b[49m\u001b[43m)\u001b[49m\u001b[43m)\u001b[49m\n\u001b[0;32m    338\u001b[0m     end \u001b[38;5;241m=\u001b[39m _w(s, end)\u001b[38;5;241m.\u001b[39mend()\n\u001b[0;32m    339\u001b[0m     \u001b[38;5;28;01mif\u001b[39;00m end \u001b[38;5;241m!=\u001b[39m \u001b[38;5;28mlen\u001b[39m(s):\n",
      "File \u001b[1;32m~\\anaconda3\\Lib\\json\\decoder.py:355\u001b[0m, in \u001b[0;36mJSONDecoder.raw_decode\u001b[1;34m(self, s, idx)\u001b[0m\n\u001b[0;32m    353\u001b[0m     obj, end \u001b[38;5;241m=\u001b[39m \u001b[38;5;28mself\u001b[39m\u001b[38;5;241m.\u001b[39mscan_once(s, idx)\n\u001b[0;32m    354\u001b[0m \u001b[38;5;28;01mexcept\u001b[39;00m \u001b[38;5;167;01mStopIteration\u001b[39;00m \u001b[38;5;28;01mas\u001b[39;00m err:\n\u001b[1;32m--> 355\u001b[0m     \u001b[38;5;28;01mraise\u001b[39;00m JSONDecodeError(\u001b[38;5;124m\"\u001b[39m\u001b[38;5;124mExpecting value\u001b[39m\u001b[38;5;124m\"\u001b[39m, s, err\u001b[38;5;241m.\u001b[39mvalue) \u001b[38;5;28;01mfrom\u001b[39;00m \u001b[38;5;28;01mNone\u001b[39;00m\n\u001b[0;32m    356\u001b[0m \u001b[38;5;28;01mreturn\u001b[39;00m obj, end\n",
      "\u001b[1;31mJSONDecodeError\u001b[0m: Expecting value: line 1 column 1 (char 0)"
     ]
    }
   ],
   "source": [
    "# convert json str into dictionary\n",
    "json.loads(js)"
   ]
  },
  {
   "cell_type": "code",
   "execution_count": 87,
   "id": "302ad2bb-0810-4580-a219-29c1f7822b9e",
   "metadata": {},
   "outputs": [],
   "source": [
    "fd = open('Records.json','r')\n",
    "js = fd.read()\n",
    "fd.close()"
   ]
  },
  {
   "cell_type": "code",
   "execution_count": 89,
   "id": "342b0f96-cadf-47ad-902f-852dafaef975",
   "metadata": {},
   "outputs": [
    {
     "ename": "NameError",
     "evalue": "name 'record_' is not defined",
     "output_type": "error",
     "traceback": [
      "\u001b[1;31m---------------------------------------------------------------------------\u001b[0m",
      "\u001b[1;31mNameError\u001b[0m                                 Traceback (most recent call last)",
      "Cell \u001b[1;32mIn[89], line 1\u001b[0m\n\u001b[1;32m----> 1\u001b[0m \u001b[43mrecord_\u001b[49m\n",
      "\u001b[1;31mNameError\u001b[0m: name 'record_' is not defined"
     ]
    }
   ],
   "source": [
    "record_"
   ]
  },
  {
   "cell_type": "code",
   "execution_count": 69,
   "id": "f702a32a-5373-4b89-b4e4-8294cbb2c1b8",
   "metadata": {},
   "outputs": [],
   "source": [
    "# difference between both keys of dictionary that cell[61] key are in str while cell[67] are in integer this in due to \n",
    "# User_Input datatype are in integer"
   ]
  },
  {
   "cell_type": "code",
   "execution_count": 79,
   "id": "1be5f11e-4cc6-4d3b-9370-c391dc513176",
   "metadata": {},
   "outputs": [
    {
     "name": "stdout",
     "output_type": "stream",
     "text": [
      "-------------MENU---------------\n",
      "\n",
      "1001 : 5 Stra \t| 10 \t| 198\n",
      "1002 : Bar-One \t| 20 \t| 100\n",
      "1003 : Candy \t| 2 \t| 310\n",
      "1004 : Chocolate cake \t| 550 \t| 7\n",
      "1005 : Bluberry cake \t| 650 \t| 5\n",
      "--------------------------------\n",
      "\n"
     ]
    },
    {
     "name": "stdin",
     "output_type": "stream",
     "text": [
      "Product Id : 1003\n",
      "Quantity : 5\n"
     ]
    },
    {
     "name": "stdout",
     "output_type": "stream",
     "text": [
      "--------------------------------\n",
      "            Bill              \n",
      "\n",
      "Product Name  :  Candy\n",
      "Price         :  2 Rs\n",
      "Quantity      :  5\n",
      "--------------------------------\n",
      "Billing Amount :  10 Rs\n",
      "--------------------------------\n"
     ]
    }
   ],
   "source": [
    "import json\n",
    "\n",
    "fd = open('Records.json','r')\n",
    "js = fd.read()\n",
    "fd.close()\n",
    "\n",
    "record_ = json.loads(js)\n",
    "\n",
    "print('-------------MENU---------------\\n')\n",
    "\n",
    "for key in record_.keys():\n",
    "    print(key, ':', record_[key]['Name'], '\\t|', record_[key]['Price'], '\\t|', record_[key]['Qn'])\n",
    "\n",
    "print('--------------------------------\\n')\n",
    "\n",
    "User_Input  = str(int(input('Product Id :')))\n",
    "User_demand = int(input('Quantity :'))\n",
    "\n",
    "record_[User_Input]['Qn'] = record_[User_Input]['Qn'] - User_demand\n",
    "\n",
    "print('--------------------------------')\n",
    "print('            Bill              \\n')\n",
    "\n",
    "print('Product Name  : ',record_[User_Input]['Name'])\n",
    "print('Price         : ',record_[User_Input]['Price'], 'Rs')\n",
    "print('Quantity      : ',User_demand)\n",
    "\n",
    "print('--------------------------------')\n",
    "print('Billing Amount : ',record_[User_Input]['Price'] * User_demand, 'Rs')\n",
    "print('--------------------------------')\n",
    "\n",
    "# to save the record in json file \n",
    "js = json.dumps(record_)\n",
    "\n",
    "fd = open('Records.json','w')\n",
    "fd.write(js)\n",
    "fd.close()"
   ]
  },
  {
   "cell_type": "code",
   "execution_count": 81,
   "id": "fd6f372b-3727-451e-a702-77c5565c73b8",
   "metadata": {},
   "outputs": [
    {
     "data": {
      "text/plain": [
       "{'1001': {'Name': '5 Stra', 'Price': 10, 'Qn': 198},\n",
       " '1002': {'Name': 'Bar-One', 'Price': 20, 'Qn': 100},\n",
       " '1003': {'Name': 'Candy', 'Price': 2, 'Qn': 305},\n",
       " '1004': {'Name': 'Chocolate cake', 'Price': 550, 'Qn': 7},\n",
       " '1005': {'Name': 'Bluberry cake', 'Price': 650, 'Qn': 5}}"
      ]
     },
     "execution_count": 81,
     "metadata": {},
     "output_type": "execute_result"
    }
   ],
   "source": [
    "record_"
   ]
  },
  {
   "cell_type": "markdown",
   "id": "6e729364-5438-4030-a470-03376d37bfb7",
   "metadata": {},
   "source": [
    "### load the file from json"
   ]
  },
  {
   "cell_type": "code",
   "execution_count": 71,
   "id": "bf13ee04-4549-4cd6-a6b7-bda47102b32c",
   "metadata": {},
   "outputs": [],
   "source": [
    "fd = open('Records.json', 'r')\n",
    "js = fd.read()\n",
    "fd.close()"
   ]
  },
  {
   "cell_type": "code",
   "execution_count": 73,
   "id": "fcb4d04a-9637-46f7-a7e4-6432cd45b62d",
   "metadata": {},
   "outputs": [
    {
     "data": {
      "text/plain": [
       "'{\"1001\": {\"Name\": \"5 Stra\", \"Price\": 10, \"Qn\": 198}, \"1002\": {\"Name\": \"Bar-One\", \"Price\": 20, \"Qn\": 100}, \"1003\": {\"Name\": \"Candy\", \"Price\": 2, \"Qn\": 305}, \"1004\": {\"Name\": \"Chocolate cake\", \"Price\": 550, \"Qn\": 7}, \"1005\": {\"Name\": \"Bluberry cake\", \"Price\": 650, \"Qn\": 5}}'"
      ]
     },
     "execution_count": 73,
     "metadata": {},
     "output_type": "execute_result"
    }
   ],
   "source": [
    "js # this is in the form of string"
   ]
  },
  {
   "cell_type": "code",
   "execution_count": 75,
   "id": "b8de0c34-1bf6-4d47-820c-f1b5e4e95fc9",
   "metadata": {},
   "outputs": [
    {
     "data": {
      "text/plain": [
       "{'1001': {'Name': '5 Stra', 'Price': 10, 'Qn': 198},\n",
       " '1002': {'Name': 'Bar-One', 'Price': 20, 'Qn': 100},\n",
       " '1003': {'Name': 'Candy', 'Price': 2, 'Qn': 305},\n",
       " '1004': {'Name': 'Chocolate cake', 'Price': 550, 'Qn': 7},\n",
       " '1005': {'Name': 'Bluberry cake', 'Price': 650, 'Qn': 5}}"
      ]
     },
     "execution_count": 75,
     "metadata": {},
     "output_type": "execute_result"
    }
   ],
   "source": [
    "new_record = json.loads(js) # it will convert json into dictionary\n",
    "new_record"
   ]
  },
  {
   "cell_type": "code",
   "execution_count": 29,
   "id": "c656e008-a074-4445-b776-7dabaccbf7c2",
   "metadata": {},
   "outputs": [],
   "source": [
    "# dictionary are in string format so error come "
   ]
  },
  {
   "cell_type": "code",
   "execution_count": 31,
   "id": "5d5087ad-fc07-4b3a-be6a-f6c12986bec8",
   "metadata": {},
   "outputs": [
    {
     "data": {
      "text/plain": [
       "{'Name': '5 Stra', 'Price': 10, 'Qn': 198}"
      ]
     },
     "execution_count": 31,
     "metadata": {},
     "output_type": "execute_result"
    }
   ],
   "source": [
    "new_record['1001']"
   ]
  },
  {
   "cell_type": "code",
   "execution_count": 35,
   "id": "8d0caa14-5f63-4fae-a8a1-83413fd56f10",
   "metadata": {},
   "outputs": [
    {
     "data": {
      "text/plain": [
       "'5 Stra'"
      ]
     },
     "execution_count": 35,
     "metadata": {},
     "output_type": "execute_result"
    }
   ],
   "source": [
    "new_record['1001']['Name']"
   ]
  },
  {
   "cell_type": "markdown",
   "id": "34dc2963-984f-4403-8137-709aa8442a4e",
   "metadata": {},
   "source": [
    "# Adding functionality"
   ]
  },
  {
   "cell_type": "code",
   "execution_count": 15,
   "id": "fa3a5c39-0f82-477b-8c78-e58974ed7a7f",
   "metadata": {},
   "outputs": [
    {
     "name": "stdout",
     "output_type": "stream",
     "text": [
      "--------------MENU--------------\n",
      "1001 : 5 Stra \t| 10 \t| 188\n",
      "1002 : Bar-One \t| 20 \t| 100\n",
      "1003 : Candy \t| 2 \t| 1000\n",
      "1004 : Chocolate cake \t| 550 \t| 8\n",
      "1005 : Bluberry cake \t| 650 \t| 5\n",
      "---------------------------------\n"
     ]
    },
    {
     "name": "stdin",
     "output_type": "stream",
     "text": [
      "Product ID :  1004\n",
      "Product Demand By User :  10\n"
     ]
    },
    {
     "name": "stdout",
     "output_type": "stream",
     "text": [
      "Soryy {10} No. of Product you demanded is not available in our Inventory.\n",
      "We are having only -2 No. of Quantity.\n",
      "Are you want to purchase, PresY/N\n"
     ]
    },
    {
     "name": "stdin",
     "output_type": "stream",
     "text": [
      "For Purchase Enter Y/N :  y\n"
     ]
    },
    {
     "name": "stdout",
     "output_type": "stream",
     "text": [
      "--------------------------------\n",
      "              Bill              \n",
      "Product Name   :  Chocolate cake\n",
      "Price          :  550 Rs\n",
      "Quantity       :  -2\n",
      "--------------------------------\n",
      "Billing Amount :  5500 Rs\n",
      "--------------------------------\n",
      "------------------------\n",
      "Update Inventory\n",
      "------------------------\n"
     ]
    }
   ],
   "source": [
    "# import json\n",
    "import json\n",
    "\n",
    "# read the saved file store in json format\n",
    "fd = open('Records.json', 'r')\n",
    "js = fd.read()\n",
    "fd.close()\n",
    "\n",
    "# convert the json file into dictionary\n",
    "new_record = json.loads(js)\n",
    "\n",
    "print('--------------MENU--------------')\n",
    "\n",
    "# extract the items are in dictionary\n",
    "for key in new_record.keys():\n",
    "    print(key, ':', new_record[key]['Name'], '\\t|', new_record[key]['Price'], '\\t|', new_record[key]['Qn'])\n",
    "\n",
    "print('---------------------------------')\n",
    "\n",
    "# take user input\n",
    "User_In = str(int(input('Product ID : ')))\n",
    "User_Dem = int(input('Product Demand By User : '))\n",
    "\n",
    "# Update invenory\n",
    "new_record[User_In]['Qn'] = new_record[User_In]['Qn'] - User_Dem\n",
    "\n",
    "if new_record[User_In]['Qn'] >= User_Dem:\n",
    "    print('--------------------------------')\n",
    "    print('              Bill              ')\n",
    "    print('Product Name   : ', new_record[User_In]['Name'])\n",
    "    print('Price          : ', new_record[User_In]['Price'], 'Rs')\n",
    "    print('Quantity       : ', User_Dem)\n",
    "    print('--------------------------------')  \n",
    "    print('Billing Amount : ', new_record[User_In]['Price'] * User_Dem, 'Rs')\n",
    "    print('--------------------------------')\n",
    "else:\n",
    "    print('Soryy', {User_Dem}, 'No. of Product you demanded is not available in our Inventory.')\n",
    "    print('We are having only', new_record[User_In]['Qn'], 'No. of Quantity.')\n",
    "    print('Are you want to purchase, PresY/N')\n",
    "    User = str(input('For Purchase Enter Y/N : ',))\n",
    "    if User == 'Y' or User == 'y':\n",
    "        print('--------------------------------')\n",
    "        print('              Bill              ')\n",
    "        print('Product Name   : ', new_record[User_In]['Name'])\n",
    "        print('Price          : ', new_record[User_In]['Price'], 'Rs')\n",
    "        print('Quantity       : ', new_record[User_In]['Qn'])\n",
    "        print('--------------------------------')  \n",
    "        print('Billing Amount : ', new_record[User_In]['Price'] * User_Dem, 'Rs')\n",
    "        print('--------------------------------')\n",
    "\n",
    "        new_record[User_In]['Qn'] = 0\n",
    "        \n",
    "    else:\n",
    "        print('Thanks for Visisting here. \\n We will keep Invertory updated next time')\n",
    "\n",
    "# Save record in json\n",
    "js = json.dumps(new_record)\n",
    "\n",
    "fd = open('Records.json', 'w')\n",
    "fd.write(js)\n",
    "fd.close\n",
    "\n",
    "print('------------------------')\n",
    "print('Update Inventory')\n",
    "print('------------------------')"
   ]
  },
  {
   "cell_type": "code",
   "execution_count": 17,
   "id": "6ef957b7-b5d1-493d-a676-f29381199bdc",
   "metadata": {},
   "outputs": [
    {
     "data": {
      "text/plain": [
       "{'1001': {'Name': '5 Stra', 'Price': 10, 'Qn': 188},\n",
       " '1002': {'Name': 'Bar-One', 'Price': 20, 'Qn': 100},\n",
       " '1003': {'Name': 'Candy', 'Price': 2, 'Qn': 1000},\n",
       " '1004': {'Name': 'Chocolate cake', 'Price': 550, 'Qn': 0},\n",
       " '1005': {'Name': 'Bluberry cake', 'Price': 650, 'Qn': 5}}"
      ]
     },
     "execution_count": 17,
     "metadata": {},
     "output_type": "execute_result"
    }
   ],
   "source": [
    "new_record"
   ]
  },
  {
   "cell_type": "markdown",
   "id": "7260133a-f057-4a42-aa26-8db8e18c8c88",
   "metadata": {},
   "source": [
    "# Generating Sales Structure"
   ]
  },
  {
   "cell_type": "code",
   "execution_count": 71,
   "id": "3d00ca23-806e-429d-a60a-c246ffbc0b88",
   "metadata": {},
   "outputs": [
    {
     "name": "stdout",
     "output_type": "stream",
     "text": [
      "1001 : 5 Stra \t 10 \t 188\n",
      "1002 : Bar-One \t 20 \t 100\n",
      "1003 : Candy \t 2 \t 1000\n",
      "1004 : Chocolate cake \t 550 \t 0\n",
      "1005 : Bluberry cake \t 650 \t 5\n",
      "---------------------------------\n"
     ]
    },
    {
     "name": "stdin",
     "output_type": "stream",
     "text": [
      "User Name :  Kamal\n",
      "Contact Detail :  85462\n",
      "User Mail ID :  ka@gmail.com\n",
      "Product ID :  1002\n",
      "Quantity :  31\n"
     ]
    },
    {
     "name": "stdout",
     "output_type": "stream",
     "text": [
      "---------------------------------\n",
      "--------------------------------\n",
      "              Bill              \n",
      "Product Name   :  Bar-One\n",
      "Price          :  20 Rs\n",
      "Quantity       :  31\n",
      "--------------------------------\n",
      "Billing Amount :  620 Rs\n",
      "--------------------------------\n",
      "------------------------\n",
      "Update Inventory\n",
      "------------------------\n"
     ]
    }
   ],
   "source": [
    "import json\n",
    "import time\n",
    "\n",
    "# read the json file\n",
    "fd = open('Records.json','r')\n",
    "js = fd.read()\n",
    "fd.close()\n",
    "\n",
    "# convert the json file into dictionary\n",
    "new_file = json.loads(js)\n",
    "\n",
    "# extract the items that are in dictionary\n",
    "for key in new_file.keys():\n",
    "    print(key, ':', new_file[key]['Name'], '\\t', new_file[key]['Price'], '\\t', new_file[key]['Qn'])\n",
    "\n",
    "print('---------------------------------')\n",
    "\n",
    "# take user input\n",
    "User_Name     = str(input('User Name : '))\n",
    "User_Contact  = str(input('Contact Detail : '))\n",
    "User_Mail     = str(input('User Mail ID : '))\n",
    "Product_ID    = str(int(input('Product ID : ')))\n",
    "User_Qn       = int(input('Quantity : '))\n",
    "\n",
    "print('---------------------------------')\n",
    "\n",
    "# update inventory\n",
    "new_file[Product_ID]['Qn'] = new_file[Product_ID]['Qn'] - User_Qn\n",
    "\n",
    "# Check the stock for customer demanded product available or not\n",
    "if new_file[Product_ID]['Qn'] >= User_Qn:\n",
    "    print('--------------------------------')\n",
    "    print('              Bill              ')\n",
    "    print('Product Name   : ', new_file[Product_ID]['Name'])\n",
    "    print('Price          : ', new_file[Product_ID]['Price'], 'Rs')\n",
    "    print('Quantity       : ', User_Qn)\n",
    "    print('--------------------------------')  \n",
    "    print('Billing Amount : ', new_file[Product_ID]['Price'] * User_Qn, 'Rs')\n",
    "    print('--------------------------------')\n",
    "\n",
    "    # making transction history if have enough quantity\n",
    "    Sales = User_Name+\",\"+User_Contact+\",\"+User_Mail+\",\"+Product_ID+\",\"+new_file[Product_ID]['Name']+\",\"+str(User_Qn)+\",\"+str(User_Qn * new_file[Product_ID]['Price'])+\",\"+time.ctime() + '\\n'\n",
    "        \n",
    "else:\n",
    "    print('Soryy No. of Product', User_Qn, 'you demanded is not available in our Inventory.')\n",
    "    print('We are having only', new_file[Product_ID]['Qn'], 'No. of Quantity.')\n",
    "    print('Are you want to purchase, PresY/N')\n",
    "    User = str(input('For Purchase Enter Y/N : ',))\n",
    "    if User == 'Y' or User == 'y':\n",
    "        print('--------------------------------')\n",
    "        print('              Bill              ')\n",
    "        print('Product Name   : ', new_file[Product_ID]['Name'])\n",
    "        print('Price          : ', new_file[Product_ID]['Price'], 'Rs')\n",
    "        print('Quantity       : ', new_file[Product_ID]['Qn'])\n",
    "        print('--------------------------------')  \n",
    "        print('Billing Amount : ', new_file[Product_ID]['Price'] * User_Qn, 'Rs')\n",
    "        print('--------------------------------')\n",
    "\n",
    "        # making transction history if have enough quantity\n",
    "        Sales = User_Name+\",\"+User_Contact+\",\"+User_Mail+\",\"+Product_ID+\",\"+new_file[Product_ID]['Name']+\",\"+str(User_Qn)+\",\"+str(new_file[Product_ID]['Qn'] * new_file[Product_ID]['Price'])+\",\"+time.ctime() + '\\n'\n",
    "        \n",
    "        new_record[User_In]['Qn'] = 0\n",
    "        \n",
    "    else:\n",
    "        print('Thanks for Visisting here. \\n We will keep Invertory updated next time')\n",
    "\n",
    "# Save record in json\n",
    "js = json.dumps(new_record)\n",
    "\n",
    "fd = open('Records.json', 'w')\n",
    "fd.write(js)\n",
    "fd.close\n",
    "\n",
    "print('------------------------')\n",
    "print('Update Inventory')\n",
    "print('------------------------')\n"
   ]
  },
  {
   "cell_type": "code",
   "execution_count": 73,
   "id": "ca1a29a1-01ca-417f-b2af-442b819022ad",
   "metadata": {},
   "outputs": [
    {
     "data": {
      "text/plain": [
       "'Kamal,85462,ka@gmail.com,1002,Bar-One,31,620,Tue Jan 28 18:02:43 2025\\n'"
      ]
     },
     "execution_count": 73,
     "metadata": {},
     "output_type": "execute_result"
    }
   ],
   "source": [
    "Sales"
   ]
  },
  {
   "cell_type": "code",
   "execution_count": 75,
   "id": "ae4ea49f-cff1-452a-bf8d-2ef8b52a270b",
   "metadata": {},
   "outputs": [
    {
     "data": {
      "text/plain": [
       "{'1001': {'Name': '5 Stra', 'Price': 10, 'Qn': 188},\n",
       " '1002': {'Name': 'Bar-One', 'Price': 20, 'Qn': 69},\n",
       " '1003': {'Name': 'Candy', 'Price': 2, 'Qn': 1000},\n",
       " '1004': {'Name': 'Chocolate cake', 'Price': 550, 'Qn': 0},\n",
       " '1005': {'Name': 'Bluberry cake', 'Price': 650, 'Qn': 5}}"
      ]
     },
     "execution_count": 75,
     "metadata": {},
     "output_type": "execute_result"
    }
   ],
   "source": [
    "new_file"
   ]
  },
  {
   "cell_type": "markdown",
   "id": "d270dc84-37fa-4181-9213-62028da33ddd",
   "metadata": {},
   "source": [
    "# Generating Sales files"
   ]
  },
  {
   "cell_type": "code",
   "execution_count": 77,
   "id": "305abbbb-4e7c-447c-a6ad-061a68dade03",
   "metadata": {},
   "outputs": [],
   "source": [
    "fd = open('Sales.txt', 'a')\n",
    "fd.write(Sales)\n",
    "fd.close()"
   ]
  },
  {
   "cell_type": "code",
   "execution_count": 81,
   "id": "c0e1b712-2ffd-458d-ade4-d0c6f0e6881a",
   "metadata": {},
   "outputs": [
    {
     "name": "stdout",
     "output_type": "stream",
     "text": [
      "1001 : 5 Stra \t 10 \t 188\n",
      "1002 : Bar-One \t 20 \t 100\n",
      "1003 : Candy \t 2 \t 1000\n",
      "1004 : Chocolate cake \t 550 \t 0\n",
      "1005 : Bluberry cake \t 650 \t 5\n",
      "---------------------------------\n"
     ]
    },
    {
     "name": "stdin",
     "output_type": "stream",
     "text": [
      "User Name :  Sangam\n",
      "Contact Detail :  5412\n",
      "User Mail ID :  Sang@gmail.com\n",
      "Product ID :  1001\n",
      "Quantity :  26\n"
     ]
    },
    {
     "name": "stdout",
     "output_type": "stream",
     "text": [
      "---------------------------------\n",
      "--------------------------------\n",
      "              Bill              \n",
      "Product Name   :  5 Stra\n",
      "Price          :  10 Rs\n",
      "Quantity       :  26\n",
      "--------------------------------\n",
      "Billing Amount :  260 Rs\n",
      "--------------------------------\n",
      "---------------------------------------------------------\n",
      "        Thanks for Your Order, Inventory Updated         \n",
      "---------------------------------------------------------\n"
     ]
    }
   ],
   "source": [
    "import json\n",
    "import time\n",
    "\n",
    "# initializing variables\n",
    "Sales = \"\"\n",
    "\n",
    "# read the json file\n",
    "fd = open('Records.json','r')\n",
    "js = fd.read()\n",
    "fd.close()\n",
    "\n",
    "# convert the json file into dictionary\n",
    "new_file = json.loads(js)\n",
    "\n",
    "# extract the items that are in dictionary\n",
    "for key in new_file.keys():\n",
    "    print(key, ':', new_file[key]['Name'], '\\t', new_file[key]['Price'], '\\t', new_file[key]['Qn'])\n",
    "\n",
    "print('---------------------------------')\n",
    "\n",
    "# take user input\n",
    "User_Name     = str(input('User Name : '))\n",
    "User_Contact  = str(input('Contact Detail : '))\n",
    "User_Mail     = str(input('User Mail ID : '))\n",
    "Product_ID    = str(int(input('Product ID : ')))\n",
    "User_Qn       = int(input('Quantity : '))\n",
    "\n",
    "print('---------------------------------')\n",
    "\n",
    "# update inventory\n",
    "new_file[Product_ID]['Qn'] = new_file[Product_ID]['Qn'] - User_Qn\n",
    "\n",
    "# Check the stock for customer demanded product available or not\n",
    "if new_file[Product_ID]['Qn'] >= User_Qn:\n",
    "    print('--------------------------------')\n",
    "    print('              Bill              ')\n",
    "    print('Product Name   : ', new_file[Product_ID]['Name'])\n",
    "    print('Price          : ', new_file[Product_ID]['Price'], 'Rs')\n",
    "    print('Quantity       : ', User_Qn)\n",
    "    print('--------------------------------')  \n",
    "    print('Billing Amount : ', new_file[Product_ID]['Price'] * User_Qn, 'Rs')\n",
    "    print('--------------------------------')\n",
    "\n",
    "    # making transction history if have enough quantity\n",
    "    Sales = User_Name+\",\"+User_Contact+\",\"+User_Mail+\",\"+Product_ID+\",\"+new_file[Product_ID]['Name']+\",\"+str(User_Qn)+\",\"+str(User_Qn * new_file[Product_ID]['Price'])+\",\"+time.ctime() + '\\n'\n",
    "        \n",
    "else:\n",
    "    print('Soryy No. of Product', User_Qn, 'you demanded is not available in our Inventory.')\n",
    "    print('We are having only', new_file[Product_ID]['Qn'], 'No. of Quantity.')\n",
    "    print('Are you want to purchase, PresY/N')\n",
    "    User = str(input('For Purchase Enter Y/N : ',))\n",
    "    if User == 'Y' or User == 'y':\n",
    "        print('--------------------------------')\n",
    "        print('              Bill              ')\n",
    "        print('Product Name   : ', new_file[Product_ID]['Name'])\n",
    "        print('Price          : ', new_file[Product_ID]['Price'], 'Rs')\n",
    "        print('Quantity       : ', new_file[Product_ID]['Qn'])\n",
    "        print('--------------------------------')  \n",
    "        print('Billing Amount : ', new_file[Product_ID]['Price'] * User_Qn, 'Rs')\n",
    "        print('--------------------------------')\n",
    "\n",
    "        # making transction history if have enough quantity\n",
    "        Sales = User_Name+\",\"+User_Contact+\",\"+User_Mail+\",\"+Product_ID+\",\"+new_file[Product_ID]['Name']+\",\"+str(User_Qn)+\",\"+str(new_file[Product_ID]['Qn'] * new_file[Product_ID]['Price'])+\",\"+time.ctime() + '\\n'\n",
    "        \n",
    "        new_record[User_In]['Qn'] = 0\n",
    "        \n",
    "    else:\n",
    "        print('Thanks for Visisting here. \\n We will keep Invertory updated next time')\n",
    "\n",
    "# Converting dictionary into string\n",
    "js = json.dumps(new_record)\n",
    "\n",
    "# Saving record into json file\n",
    "fd = open('Records.json', 'w')\n",
    "fd.write(js)\n",
    "fd.close\n",
    "\n",
    "# Saving Records in sales file\n",
    "fd = open('Sales.txt', 'a')\n",
    "fd.write(Sales)\n",
    "fd.close()\n",
    "\n",
    "print('---------------------------------------------------------')\n",
    "print('        Thanks for Your Order, Inventory Updated         ')\n",
    "print('---------------------------------------------------------')"
   ]
  },
  {
   "cell_type": "code",
   "execution_count": 83,
   "id": "ee8bbd90-6bd7-4568-8aab-574e560ce50e",
   "metadata": {},
   "outputs": [
    {
     "data": {
      "text/plain": [
       "'Sangam,5412,Sang@gmail.com,1001,5 Stra,26,260,Tue Jan 28 18:17:45 2025\\n'"
      ]
     },
     "execution_count": 83,
     "metadata": {},
     "output_type": "execute_result"
    }
   ],
   "source": [
    "Sales"
   ]
  },
  {
   "cell_type": "code",
   "execution_count": 85,
   "id": "a71f4478-671a-448b-9056-98ece870b7e6",
   "metadata": {},
   "outputs": [
    {
     "data": {
      "text/plain": [
       "{'1001': {'Name': '5 Stra', 'Price': 10, 'Qn': 162},\n",
       " '1002': {'Name': 'Bar-One', 'Price': 20, 'Qn': 100},\n",
       " '1003': {'Name': 'Candy', 'Price': 2, 'Qn': 1000},\n",
       " '1004': {'Name': 'Chocolate cake', 'Price': 550, 'Qn': 0},\n",
       " '1005': {'Name': 'Bluberry cake', 'Price': 650, 'Qn': 5}}"
      ]
     },
     "execution_count": 85,
     "metadata": {},
     "output_type": "execute_result"
    }
   ],
   "source": [
    "new_file"
   ]
  },
  {
   "cell_type": "code",
   "execution_count": 87,
   "id": "ec8f7a64-6b96-4de2-ba25-fc77b2154095",
   "metadata": {},
   "outputs": [
    {
     "name": "stdout",
     "output_type": "stream",
     "text": [
      "5 Stra\n"
     ]
    }
   ],
   "source": [
    "record_ = {1001 : {'Name' : '5 Stra',         'Price' : 10, 'Qn' : 200}, \n",
    "          1002 : {'Name' : 'Bar-One',        'Price' : 20, 'Qn' : 100}, \n",
    "          1003 : {'Name' : 'Candy',          'Price' : 2,  'Qn' : 1000},\n",
    "          1004 : {'Name' : 'Chocolate cake', 'Price' : 550, 'Qn' : 8} ,\n",
    "          1005 : {'Name' : 'Bluberry cake', 'Price' : 650, 'Qn' : 5}}\n",
    "print(record_[1001][\"Name\"])"
   ]
  },
  {
   "cell_type": "code",
   "execution_count": 99,
   "id": "0b9d7815-8011-4acd-904e-7d36fc6ce6bd",
   "metadata": {},
   "outputs": [
    {
     "name": "stdout",
     "output_type": "stream",
     "text": [
      "{'Name': 'Bar-One', 'Price': 20, 'Qn': 100}\n"
     ]
    }
   ],
   "source": [
    "record_ = {1001 : {'Name' : '5 Stra',         'Price' : 10, 'Qn' : 200}, \n",
    "          1002 : {'Name' : 'Bar-One',        'Price' : 20, 'Qn' : 100},\n",
    "           1003 : 'Not Available',\n",
    "           1004 : {'Roll' : 1}}\n",
    "print(record_[1002])"
   ]
  },
  {
   "cell_type": "code",
   "execution_count": 101,
   "id": "ace85381-58e0-41a1-a21b-6800c3ffadaf",
   "metadata": {},
   "outputs": [
    {
     "name": "stdout",
     "output_type": "stream",
     "text": [
      "1001\n",
      "1002\n",
      "1003\n",
      "1004\n"
     ]
    }
   ],
   "source": [
    "for key in record_.keys():\n",
    "    print(key)"
   ]
  }
 ],
 "metadata": {
  "kernelspec": {
   "display_name": "Python 3 (ipykernel)",
   "language": "python",
   "name": "python3"
  },
  "language_info": {
   "codemirror_mode": {
    "name": "ipython",
    "version": 3
   },
   "file_extension": ".py",
   "mimetype": "text/x-python",
   "name": "python",
   "nbconvert_exporter": "python",
   "pygments_lexer": "ipython3",
   "version": "3.12.3"
  }
 },
 "nbformat": 4,
 "nbformat_minor": 5
}
