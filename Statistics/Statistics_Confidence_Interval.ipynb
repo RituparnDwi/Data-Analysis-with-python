{
  "nbformat": 4,
  "nbformat_minor": 0,
  "metadata": {
    "colab": {
      "provenance": []
    },
    "kernelspec": {
      "name": "python3",
      "display_name": "Python 3"
    },
    "language_info": {
      "name": "python"
    }
  },
  "cells": [
    {
      "cell_type": "markdown",
      "source": [
        "# **Confidence Interval**"
      ],
      "metadata": {
        "id": "3FNrvFY96uFz"
      }
    },
    {
      "cell_type": "code",
      "execution_count": 1,
      "metadata": {
        "id": "fDfZO0h2uUvB"
      },
      "outputs": [],
      "source": [
        "import numpy as np\n",
        "import scipy.stats as st"
      ]
    },
    {
      "cell_type": "code",
      "source": [
        "data = [1,1,2,2,2,3,3,3,3,3,4,4,5,5,5,6,7,8,10]"
      ],
      "metadata": {
        "id": "BoyVnrEbupfq"
      },
      "execution_count": 2,
      "outputs": []
    },
    {
      "cell_type": "code",
      "source": [
        "# Calculate 90% confidence intervals of the data set of size 20 using t distribution using the\n",
        "# interval f/c and passing the alpha parameter 0.90 in the python"
      ],
      "metadata": {
        "id": "c0Qye4aou3um"
      },
      "execution_count": 3,
      "outputs": []
    },
    {
      "cell_type": "code",
      "source": [
        "loc = np.mean(data)"
      ],
      "metadata": {
        "id": "9F_2huFnyN1c"
      },
      "execution_count": 10,
      "outputs": []
    },
    {
      "cell_type": "code",
      "source": [
        "loc"
      ],
      "metadata": {
        "colab": {
          "base_uri": "https://localhost:8080/"
        },
        "id": "npLgPx68yVH0",
        "outputId": "f198ca14-f41f-4420-984a-384901b94c00"
      },
      "execution_count": 11,
      "outputs": [
        {
          "output_type": "execute_result",
          "data": {
            "text/plain": [
              "4.052631578947368"
            ]
          },
          "metadata": {},
          "execution_count": 11
        }
      ]
    },
    {
      "cell_type": "code",
      "source": [
        "# Standard Error of Margin\n",
        "scale=st.sem(data)"
      ],
      "metadata": {
        "id": "dZAvbOoWyZJt"
      },
      "execution_count": 12,
      "outputs": []
    },
    {
      "cell_type": "code",
      "source": [
        "scale"
      ],
      "metadata": {
        "colab": {
          "base_uri": "https://localhost:8080/"
        },
        "id": "0LNrQBSHyn6l",
        "outputId": "b70b277c-2a43-41e9-83a5-cba63ea34c30"
      },
      "execution_count": 13,
      "outputs": [
        {
          "output_type": "execute_result",
          "data": {
            "text/plain": [
              "0.5486489744249785"
            ]
          },
          "metadata": {},
          "execution_count": 13
        }
      ]
    },
    {
      "cell_type": "code",
      "source": [
        "# We passed four argumnt -\n",
        "# 1. Confidence level\n",
        "# 2. Degree of freedom\n",
        "# 3. Sample mean\n",
        "# 4. Error of margin\n",
        "\n",
        "# confidance interval\n",
        "interval = st.t.interval(confidence=0.90, df=len(data)-1, loc=np.mean(data), scale=st.sem(data))\n"
      ],
      "metadata": {
        "id": "2MW6hBBCvU72"
      },
      "execution_count": 35,
      "outputs": []
    },
    {
      "cell_type": "code",
      "source": [
        "interval"
      ],
      "metadata": {
        "colab": {
          "base_uri": "https://localhost:8080/"
        },
        "id": "puB-cJn20Q53",
        "outputId": "0f40ee54-0f3f-4330-f1f6-a1b41d9dbc83"
      },
      "execution_count": 20,
      "outputs": [
        {
          "output_type": "execute_result",
          "data": {
            "text/plain": [
              "(3.101239359588978, 5.0040237983057585)"
            ]
          },
          "metadata": {},
          "execution_count": 20
        }
      ]
    },
    {
      "cell_type": "code",
      "source": [
        "import matplotlib.pyplot as plt\n"
      ],
      "metadata": {
        "id": "LgOdLHQSxzqJ"
      },
      "execution_count": 16,
      "outputs": []
    },
    {
      "cell_type": "code",
      "source": [
        "import seaborn as sns"
      ],
      "metadata": {
        "id": "JDY3f5f8zoV6"
      },
      "execution_count": 17,
      "outputs": []
    },
    {
      "cell_type": "code",
      "source": [
        "sns.displot(interval, kind='kde')"
      ],
      "metadata": {
        "colab": {
          "base_uri": "https://localhost:8080/",
          "height": 523
        },
        "id": "tw57DrFbzsIj",
        "outputId": "55970f80-e822-4d91-bc68-c66a5a4e80e7"
      },
      "execution_count": 19,
      "outputs": [
        {
          "output_type": "execute_result",
          "data": {
            "text/plain": [
              "<seaborn.axisgrid.FacetGrid at 0x7f9985a98890>"
            ]
          },
          "metadata": {},
          "execution_count": 19
        },
        {
          "output_type": "display_data",
          "data": {
            "text/plain": [
              "<Figure size 500x500 with 1 Axes>"
            ],
            "image/png": "[encoded data removed]"
          },
          "metadata": {}
        }
      ]
    },
    {
      "cell_type": "code",
      "source": [
        "sns.distplot(interval)"
      ],
      "metadata": {
        "colab": {
          "base_uri": "https://localhost:8080/",
          "height": 638
        },
        "id": "OycjGHCY0CtZ",
        "outputId": "e3af5470-0d7a-4a79-d43a-43706d0461c0"
      },
      "execution_count": 22,
      "outputs": [
        {
          "output_type": "stream",
          "name": "stderr",
          "text": [
            "<ipython-input-22-25af8a9a8615>:1: UserWarning: \n",
            "\n",
            "`distplot` is a deprecated function and will be removed in seaborn v0.14.0.\n",
            "\n",
            "Please adapt your code to use either `displot` (a figure-level function with\n",
            "similar flexibility) or `histplot` (an axes-level function for histograms).\n",
            "\n",
            "For a guide to updating your code to use the new functions, please see\n",
            "https://gist.github.com/mwaskom/de44147ed2974457ad6372750bbe5751\n",
            "\n",
            "  sns.distplot(interval)\n"
          ]
        },
        {
          "output_type": "execute_result",
          "data": {
            "text/plain": [
              "<Axes: ylabel='Density'>"
            ]
          },
          "metadata": {},
          "execution_count": 22
        },
        {
          "output_type": "display_data",
          "data": {
            "text/plain": [
              "<Figure size 640x480 with 1 Axes>"
            ],
            "image/png": "[encoded data removed]"
          },
          "metadata": {}
        }
      ]
    },
    {
      "cell_type": "code",
      "source": [
        "# Q2. Calculate 90% confidence intervals of the random data set of size 100 using norm distribution using the\n",
        "#     norm.interval() f/c and passing the alpha parameter 0.90 in the python"
      ],
      "metadata": {
        "id": "UvuX5-kb0Y2x"
      },
      "execution_count": 23,
      "outputs": []
    },
    {
      "cell_type": "code",
      "source": [
        "# We passed three argumnt -\n",
        "# 1. Confidence level\n",
        "# 2. Sample mean\n",
        "# 3. Error of margin\n",
        "\n",
        "np.random.seed(0)\n",
        "data2 = np.random.randint(5,10,100)\n"
      ],
      "metadata": {
        "id": "R1rNZtbn1RLA"
      },
      "execution_count": 27,
      "outputs": []
    },
    {
      "cell_type": "code",
      "source": [
        "mean_val = np.mean(data2)\n",
        "mean_val"
      ],
      "metadata": {
        "colab": {
          "base_uri": "https://localhost:8080/"
        },
        "id": "4hnBdIo15Tfe",
        "outputId": "50fc2c5e-d2a2-4be8-89a8-d6b90328340b"
      },
      "execution_count": 31,
      "outputs": [
        {
          "output_type": "execute_result",
          "data": {
            "text/plain": [
              "6.96"
            ]
          },
          "metadata": {},
          "execution_count": 31
        }
      ]
    },
    {
      "cell_type": "code",
      "source": [
        "std_err_mar=st.sem(data2)"
      ],
      "metadata": {
        "id": "hdynq6KM3YAW"
      },
      "execution_count": 32,
      "outputs": []
    },
    {
      "cell_type": "code",
      "source": [
        "std_err_mar"
      ],
      "metadata": {
        "colab": {
          "base_uri": "https://localhost:8080/"
        },
        "id": "-Vk0Ju6A3dbw",
        "outputId": "ee32e79a-7a9f-409d-d1d4-909c128bb99c"
      },
      "execution_count": 33,
      "outputs": [
        {
          "output_type": "execute_result",
          "data": {
            "text/plain": [
              "0.14419403313563012"
            ]
          },
          "metadata": {},
          "execution_count": 33
        }
      ]
    },
    {
      "cell_type": "code",
      "source": [
        "confidence_interval = st.norm.interval(confidence=0.90, loc=mean_val, scale=std_err_mar)\n",
        "confidence_interval"
      ],
      "metadata": {
        "colab": {
          "base_uri": "https://localhost:8080/"
        },
        "id": "CGCpAXjQ2QEQ",
        "outputId": "652aea6b-5b93-4654-ffe1-a23aaa6f24dc"
      },
      "execution_count": 34,
      "outputs": [
        {
          "output_type": "execute_result",
          "data": {
            "text/plain": [
              "(6.722821921612098, 7.197178078387902)"
            ]
          },
          "metadata": {},
          "execution_count": 34
        }
      ]
    },
    {
      "cell_type": "code",
      "source": [],
      "metadata": {
        "id": "s3EtnokT3Idt"
      },
      "execution_count": null,
      "outputs": []
    }
  ]
}